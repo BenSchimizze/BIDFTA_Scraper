{
 "cells": [
  {
   "cell_type": "code",
   "execution_count": 1,
   "metadata": {
    "collapsed": false
   },
   "outputs": [
    {
     "data": {
      "text/plain": [
       "'os.environ[\\'http_proxy\\'] = \"http://PITC-Zscaler-Americas-Cincinnati3PR.proxy.corporate.ge.com:80\" \\nos.environ[\\'HTTP_PROXY\\'] = \"http://PITC-Zscaler-Americas-Cincinnati3PR.proxy.corporate.ge.com:80\"\\nos.environ[\\'https_proxy\\'] = \"http://PITC-Zscaler-Americas-Cincinnati3PR.proxy.corporate.ge.com:80\"\\nos.environ[\\'HTTPS_PROXY\\'] = \"http://PITC-Zscaler-Americas-Cincinnati3PR.proxy.corporate.ge.com:80'"
      ]
     },
     "execution_count": 1,
     "metadata": {},
     "output_type": "execute_result"
    }
   ],
   "source": [
    "import requests, bs4\n",
    "import os\n",
    "import re\n",
    "from datetime import datetime\n",
    "import sqlite3\n",
    "import selenium\n",
    "\"\"\"os.environ['http_proxy'] = \"http://PITC-Zscaler-Americas-Cincinnati3PR.proxy.corporate.ge.com:80\" \n",
    "os.environ['HTTP_PROXY'] = \"http://PITC-Zscaler-Americas-Cincinnati3PR.proxy.corporate.ge.com:80\"\n",
    "os.environ['https_proxy'] = \"http://PITC-Zscaler-Americas-Cincinnati3PR.proxy.corporate.ge.com:80\"\n",
    "os.environ['HTTPS_PROXY'] = \"http://PITC-Zscaler-Americas-Cincinnati3PR.proxy.corporate.ge.com:80\"\"\""
   ]
  },
  {
   "cell_type": "code",
   "execution_count": 2,
   "metadata": {
    "collapsed": false
   },
   "outputs": [
    {
     "name": "stdout",
     "output_type": "stream",
     "text": [
      "Here is some important text you want to retrieve!\n",
      "A button to click!\n"
     ]
    }
   ],
   "source": [
    "from selenium import webdriver\n",
    "import time\n",
    "\n",
    "driver = webdriver.Chrome()\n",
    "driver.get('http://pythonscraping.com/pages/javascript/ajaxDemo.html')\n",
    "time.sleep(3)\n",
    "print(driver.find_element_by_id('content').text)\n",
    "driver.close()"
   ]
  },
  {
   "cell_type": "code",
   "execution_count": 72,
   "metadata": {
    "collapsed": false
   },
   "outputs": [],
   "source": [
    "from selenium import webdriver\n",
    "import time\n",
    "\n",
    "driver = webdriver.Chrome()\n",
    "driver.get('https://bid.bidfta.com/cgi-bin/mnlist.cgi?broadwellv108/category/ALL')\n",
    "time.sleep(3)\n",
    "#driver.close()"
   ]
  },
  {
   "cell_type": "code",
   "execution_count": 73,
   "metadata": {
    "collapsed": false
   },
   "outputs": [],
   "source": [
    "#Build string of elements\n",
    "build_flag = True\n",
    "start_p = 'p1'\n",
    "item_str = \"\"\n",
    "while build_flag:\n",
    "    try:\n",
    "        item_str += driver.find_element_by_name(start_p).get_attribute(\"value\")\n",
    "        start_p = start_p[0] + str(int(start_p[1])+1)\n",
    "    except:\n",
    "        build_flag = False\n",
    "#item_str\n",
    "#driver.find_element_by_xpath(\"//table[@id='SelectPage']\").find_element_by_name(\"p2\").get_attribute('value')"
   ]
  },
  {
   "cell_type": "code",
   "execution_count": 74,
   "metadata": {
    "collapsed": true
   },
   "outputs": [],
   "source": [
    "elem = driver.find_elements_by_name(\"p2\")[2]\n",
    "driver.execute_script(\"arguments[0].setAttribute('value','\" + item_str + \"')\", elem)"
   ]
  },
  {
   "cell_type": "code",
   "execution_count": 75,
   "metadata": {
    "collapsed": false
   },
   "outputs": [],
   "source": [
    "driver.find_element_by_xpath(\"//input[@value='p2'][@name='page']\").click()"
   ]
  },
  {
   "cell_type": "code",
   "execution_count": 68,
   "metadata": {
    "collapsed": false
   },
   "outputs": [],
   "source": [
    "driver.close()"
   ]
  },
  {
   "cell_type": "code",
   "execution_count": 46,
   "metadata": {
    "collapsed": true
   },
   "outputs": [
    {
     "ename": "ValueError",
     "evalue": "time data 'Bidding extended on Open items' does not match format '%B %d %Y %I:%M %p'",
     "output_type": "error",
     "traceback": [
      "\u001b[0;31m---------------------------------------------------------------------------\u001b[0m",
      "\u001b[0;31mValueError\u001b[0m                                Traceback (most recent call last)",
      "\u001b[0;32m<ipython-input-46-e6642d14a5fe>\u001b[0m in \u001b[0;36m<module>\u001b[0;34m()\u001b[0m\n\u001b[1;32m      2\u001b[0m \u001b[0mdate_string\u001b[0m \u001b[1;33m=\u001b[0m \u001b[0msoup\u001b[0m\u001b[1;33m.\u001b[0m\u001b[0mselect\u001b[0m\u001b[1;33m(\u001b[0m\u001b[1;34m'table tr td table tr td'\u001b[0m\u001b[1;33m)\u001b[0m\u001b[1;33m[\u001b[0m\u001b[1;36m2\u001b[0m\u001b[1;33m]\u001b[0m\u001b[1;33m.\u001b[0m\u001b[0mgetText\u001b[0m\u001b[1;33m(\u001b[0m\u001b[1;33m)\u001b[0m\u001b[1;33m\u001b[0m\u001b[0m\n\u001b[1;32m      3\u001b[0m \u001b[0mdate_list\u001b[0m \u001b[1;33m=\u001b[0m \u001b[0mre\u001b[0m\u001b[1;33m.\u001b[0m\u001b[0msplit\u001b[0m\u001b[1;33m(\u001b[0m\u001b[1;34m\"[ ,]+\"\u001b[0m\u001b[1;33m,\u001b[0m \u001b[0mdate_string\u001b[0m\u001b[1;33m)\u001b[0m\u001b[1;33m\u001b[0m\u001b[0m\n\u001b[0;32m----> 4\u001b[0;31m \u001b[0mitem_date\u001b[0m \u001b[1;33m=\u001b[0m \u001b[0mdatetime\u001b[0m\u001b[1;33m.\u001b[0m\u001b[0mstrptime\u001b[0m\u001b[1;33m(\u001b[0m\u001b[1;34m\" \"\u001b[0m\u001b[1;33m.\u001b[0m\u001b[0mjoin\u001b[0m\u001b[1;33m(\u001b[0m\u001b[0mdate_list\u001b[0m\u001b[1;33m[\u001b[0m\u001b[1;33m:\u001b[0m\u001b[1;36m5\u001b[0m\u001b[1;33m]\u001b[0m\u001b[1;33m)\u001b[0m\u001b[1;33m,\u001b[0m\u001b[1;34m\"%B %d %Y %I:%M %p\"\u001b[0m\u001b[1;33m)\u001b[0m\u001b[1;33m\u001b[0m\u001b[0m\n\u001b[0m\u001b[1;32m      5\u001b[0m \u001b[0mitem_date\u001b[0m\u001b[1;33m\u001b[0m\u001b[0m\n",
      "\u001b[0;32mC:\\Users\\212474523\\AppData\\Local\\Continuum\\Anaconda3\\lib\\_strptime.py\u001b[0m in \u001b[0;36m_strptime_datetime\u001b[0;34m(cls, data_string, format)\u001b[0m\n\u001b[1;32m    508\u001b[0m     \"\"\"Return a class cls instance based on the input string and the\n\u001b[1;32m    509\u001b[0m     format string.\"\"\"\n\u001b[0;32m--> 510\u001b[0;31m     \u001b[0mtt\u001b[0m\u001b[1;33m,\u001b[0m \u001b[0mfraction\u001b[0m \u001b[1;33m=\u001b[0m \u001b[0m_strptime\u001b[0m\u001b[1;33m(\u001b[0m\u001b[0mdata_string\u001b[0m\u001b[1;33m,\u001b[0m \u001b[0mformat\u001b[0m\u001b[1;33m)\u001b[0m\u001b[1;33m\u001b[0m\u001b[0m\n\u001b[0m\u001b[1;32m    511\u001b[0m     \u001b[0mtzname\u001b[0m\u001b[1;33m,\u001b[0m \u001b[0mgmtoff\u001b[0m \u001b[1;33m=\u001b[0m \u001b[0mtt\u001b[0m\u001b[1;33m[\u001b[0m\u001b[1;33m-\u001b[0m\u001b[1;36m2\u001b[0m\u001b[1;33m:\u001b[0m\u001b[1;33m]\u001b[0m\u001b[1;33m\u001b[0m\u001b[0m\n\u001b[1;32m    512\u001b[0m     \u001b[0margs\u001b[0m \u001b[1;33m=\u001b[0m \u001b[0mtt\u001b[0m\u001b[1;33m[\u001b[0m\u001b[1;33m:\u001b[0m\u001b[1;36m6\u001b[0m\u001b[1;33m]\u001b[0m \u001b[1;33m+\u001b[0m \u001b[1;33m(\u001b[0m\u001b[0mfraction\u001b[0m\u001b[1;33m,\u001b[0m\u001b[1;33m)\u001b[0m\u001b[1;33m\u001b[0m\u001b[0m\n",
      "\u001b[0;32mC:\\Users\\212474523\\AppData\\Local\\Continuum\\Anaconda3\\lib\\_strptime.py\u001b[0m in \u001b[0;36m_strptime\u001b[0;34m(data_string, format)\u001b[0m\n\u001b[1;32m    341\u001b[0m     \u001b[1;32mif\u001b[0m \u001b[1;32mnot\u001b[0m \u001b[0mfound\u001b[0m\u001b[1;33m:\u001b[0m\u001b[1;33m\u001b[0m\u001b[0m\n\u001b[1;32m    342\u001b[0m         raise ValueError(\"time data %r does not match format %r\" %\n\u001b[0;32m--> 343\u001b[0;31m                          (data_string, format))\n\u001b[0m\u001b[1;32m    344\u001b[0m     \u001b[1;32mif\u001b[0m \u001b[0mlen\u001b[0m\u001b[1;33m(\u001b[0m\u001b[0mdata_string\u001b[0m\u001b[1;33m)\u001b[0m \u001b[1;33m!=\u001b[0m \u001b[0mfound\u001b[0m\u001b[1;33m.\u001b[0m\u001b[0mend\u001b[0m\u001b[1;33m(\u001b[0m\u001b[1;33m)\u001b[0m\u001b[1;33m:\u001b[0m\u001b[1;33m\u001b[0m\u001b[0m\n\u001b[1;32m    345\u001b[0m         raise ValueError(\"unconverted data remains: %s\" %\n",
      "\u001b[0;31mValueError\u001b[0m: time data 'Bidding extended on Open items' does not match format '%B %d %Y %I:%M %p'"
     ]
    }
   ],
   "source": [
    "soup = bs4.BeautifulSoup(driver.page_source, 'html.parser')\n",
    "date_string = soup.select('table tr td table tr td')[2].getText()\n",
    "date_list = re.split(\"[ ,]+\", date_string)\n",
    "item_date = datetime.strptime(\" \".join(date_list[:5]),\"%B %d %Y %I:%M %p\")\n",
    "item_date"
   ]
  },
  {
   "cell_type": "code",
   "execution_count": 8,
   "metadata": {
    "collapsed": false
   },
   "outputs": [
    {
     "data": {
      "text/plain": [
       "datetime.datetime(2018, 4, 2, 10, 0)"
      ]
     },
     "execution_count": 8,
     "metadata": {},
     "output_type": "execute_result"
    }
   ],
   "source": [
    "datetime.strptime(\" \".join(date_list[:5]),\"%B %d %Y %I:%M %p\")"
   ]
  },
  {
   "cell_type": "code",
   "execution_count": 9,
   "metadata": {
    "collapsed": false
   },
   "outputs": [
    {
     "data": {
      "text/plain": [
       "'https://bid.bidfta.com/cgi-bin/mnlist.cgi?broadwellv371/category/ALL'"
      ]
     },
     "execution_count": 9,
     "metadata": {},
     "output_type": "execute_result"
    }
   ],
   "source": [
    "item_details_link = r'https://bid.bidfta.com' + soup.select('a')[-3].get('href')\n",
    "item_details_link"
   ]
  },
  {
   "cell_type": "code",
   "execution_count": 76,
   "metadata": {
    "collapsed": true
   },
   "outputs": [],
   "source": [
    "#res = requests.get(item_details_link)\n",
    "soup = bs4.BeautifulSoup(driver.page_source, 'html.parser')"
   ]
  },
  {
   "cell_type": "code",
   "execution_count": 77,
   "metadata": {
    "collapsed": false
   },
   "outputs": [
    {
     "data": {
      "text/plain": [
       "<sqlite3.Cursor at 0x1f7956e9500>"
      ]
     },
     "execution_count": 77,
     "metadata": {},
     "output_type": "execute_result"
    }
   ],
   "source": [
    "conn = sqlite3.connect('bidfta.db')\n",
    "c = conn.cursor()\n",
    "c.execute('DROP TABLE items')\n",
    "c.execute('''CREATE TABLE items\n",
    "             (description text, additional text, uri text, current_price real)''')"
   ]
  },
  {
   "cell_type": "code",
   "execution_count": 183,
   "metadata": {
    "collapsed": false
   },
   "outputs": [
    {
     "data": {
      "text/plain": [
       "'<td><b>Item Brand</b>: SUNSOUT<br/><b>Item Desc</b>: OBSERVATION DECK 550 PC JIGSAW PUZZLE -NATURE THEME- BY SUNSOUT<br/><b>Load #</b>: 16178<br/><b>Lotter</b>: Mindy<br/><b>Weight</b>: 0.9<br/><b>Additional Info</b>: BRAND NEW<br/><b>Item Location</b>: Broadwell<br/><b>Front Page</b>: <a href=\"http://www.bidfta.com\" target=\"_blank\">Click here to go back to Fast Track Auction Home Page</a> <br/><b>Twitter</b>: <a href=\"https://twitter.com/home?status=Check%20out%20this%20great%20deal%20I%20found%20on%20%23FastTrackIt%20%40BidFTA%20http%3A//bid.bidfta.com/cgi-bin/mnlist.cgi?/TN071754\">Twitter</a><br/><b>Facebook</b>: <a href=\"https://www.facebook.com/sharer/sharer.php?u=http%3A//bid.bidfta.com/cgi-bin/mnlist.cgi?/TN071754\">Facebook</a><br/><b>Pinterest</b>: <a href=\"https://pinterest.com/pin/create/button/?url=&amp;media=http%3A//bidfta.biz//TN071754t.jpg&amp;description=Check%20out%20this%20sweet%20deal%20I%20found%20on%20%23FastTrackIt%20%40BidFTA\">Pinterest</a><br/><b>Watchlist</b>: <a href=\"http://beta.watch-fta.com:8080/Watchlist/#/Add?name=TN071754\" target=\"_blank\"><img alt=\"Add to Watchlist\" src=\"http://d2c3kiufvhjdfg.cloudfront.net/Pics/wlbutton.png\"/></a><br/></td>'"
      ]
     },
     "execution_count": 183,
     "metadata": {},
     "output_type": "execute_result"
    }
   ],
   "source": [
    "text = str(soup.find('table',id='DataTable')\n",
    "     .findAll('tr', class_='DataRow')[1]\n",
    "     .findAll('td')[2]\n",
    "    )\n",
    "text"
   ]
  },
  {
   "cell_type": "code",
   "execution_count": 153,
   "metadata": {
    "collapsed": false
   },
   "outputs": [
    {
     "data": {
      "text/plain": [
       "'BRAND NEW'"
      ]
     },
     "execution_count": 153,
     "metadata": {},
     "output_type": "execute_result"
    }
   ],
   "source": [
    "mat = re.compile(\"<br/>\")\n",
    "txt = mat.split(text)[3]\n",
    "mat2 = re.compile(\": ([\\w\\W]+)$\")\n",
    "mat2.search(txt).groups()[0]\n"
   ]
  },
  {
   "cell_type": "code",
   "execution_count": 181,
   "metadata": {
    "collapsed": false
   },
   "outputs": [
    {
     "ename": "IndexError",
     "evalue": "no such group",
     "output_type": "error",
     "traceback": [
      "\u001b[0;31m---------------------------------------------------------------------------\u001b[0m",
      "\u001b[0;31mIndexError\u001b[0m                                Traceback (most recent call last)",
      "\u001b[0;32m<ipython-input-181-f2ed415dd13f>\u001b[0m in \u001b[0;36m<module>\u001b[0;34m()\u001b[0m\n\u001b[0;32m----> 1\u001b[0;31m \u001b[0mre\u001b[0m\u001b[1;33m.\u001b[0m\u001b[0msearch\u001b[0m\u001b[1;33m(\u001b[0m\u001b[1;34m\"<b>([\\w\\W]+)</b>\"\u001b[0m\u001b[1;33m,\u001b[0m \u001b[0mtext\u001b[0m\u001b[1;33m)\u001b[0m\u001b[1;33m.\u001b[0m\u001b[0mgroup\u001b[0m\u001b[1;33m(\u001b[0m\u001b[1;36m2\u001b[0m\u001b[1;33m)\u001b[0m\u001b[1;33m\u001b[0m\u001b[0m\n\u001b[0m",
      "\u001b[0;31mIndexError\u001b[0m: no such group"
     ]
    }
   ],
   "source": [
    "re.search(\"<b>([\\w\\W]+)</b>\", text).group()"
   ]
  },
  {
   "cell_type": "code",
   "execution_count": 164,
   "metadata": {
    "collapsed": false
   },
   "outputs": [
    {
     "name": "stdout",
     "output_type": "stream",
     "text": [
      "SUNSOUT\n",
      "OBSERVATION DECK 550 PC JIGSAW PUZZLE -NATURE THEME- BY SUNSOUT\n",
      "16178\n",
      "Mindy\n",
      "0.9\n"
     ]
    }
   ],
   "source": [
    "for item in mat.split(text)[:5]:\n",
    "    print(mat2.search(item).groups()[0])"
   ]
  },
  {
   "cell_type": "code",
   "execution_count": null,
   "metadata": {
    "collapsed": true
   },
   "outputs": [],
   "source": [
    "items = (soup.find('table',id='DataTable')\n",
    "             .findAll('tr', class_='DataRow')\n",
    "              )\n",
    "\n",
    "for item in items:\n",
    "    "
   ]
  },
  {
   "cell_type": "code",
   "execution_count": 78,
   "metadata": {
    "collapsed": false
   },
   "outputs": [],
   "source": [
    "items = soup.findAll('table')[2].findAll('table')[2].select('tr')[1:]\n",
    "#print(items[0].select('td')[2])\n",
    "for item in items:\n",
    "    #print(item)\n",
    "    price = item.select('td')[-3].getText()\n",
    "    split_item_data = re.split('<b>|</b>|<br/>',str(item.select('td')[2]))\n",
    "    uri = 'http://bid.bidfta.com' + item.find('a').get('href')\n",
    "    for i in range(1,len(split_item_data)):\n",
    "        if split_item_data[i-1] == 'Item Desc':\n",
    "            item_desc = split_item_data[i][2:]\n",
    "        elif split_item_data[i-1] == 'Additional Info':\n",
    "            addtl = split_item_data[i][2:]\n",
    "    c.execute('INSERT INTO items VALUES (?, ?, ?, ?)',(item_desc, addtl, uri, price))"
   ]
  },
  {
   "cell_type": "code",
   "execution_count": 79,
   "metadata": {
    "collapsed": false
   },
   "outputs": [
    {
     "data": {
      "text/plain": [
       "[('ASSORTED CELL PHONE CASES AND SCREEN PROTECTORS **LOTTER MUST OPEN BAG AND TAKE PHOTO OF 5 CASES INSIDE**',\n",
       "  'BRAND NEW',\n",
       "  'http://bid.bidfta.com/cgi-bin/mnlist.cgi?broadwellv108/TN071772',\n",
       "  '0.11\\nx 25 = 2.75'),\n",
       " ('10 PAIRS ASSORTED SUNGLASSES ',\n",
       "  'BRAND NEW',\n",
       "  'http://bid.bidfta.com/cgi-bin/mnlist.cgi?broadwellv108/TN071779',\n",
       "  '0.69\\nx 10 = 6.90'),\n",
       " ('4 ASSORTED ITEMS FOR BABY SHOWER',\n",
       "  'BRAND NEW',\n",
       "  'http://bid.bidfta.com/cgi-bin/mnlist.cgi?broadwellv108/TN071821',\n",
       "  '0.01\\nx 4 = 0.04'),\n",
       " ('3 ASSORTED CDS',\n",
       "  'BRAND NEW',\n",
       "  'http://bid.bidfta.com/cgi-bin/mnlist.cgi?broadwellv108/TN071823',\n",
       "  0.01),\n",
       " ('2 ASSORTED PAIRS OF SOCKS ',\n",
       "  'BRAND NEW',\n",
       "  'http://bid.bidfta.com/cgi-bin/mnlist.cgi?broadwellv108/TN071824',\n",
       "  '0.33\\nx 2 = 0.66'),\n",
       " ('2 ASSORTED ITEMS ',\n",
       "  'BRAND NEW',\n",
       "  'http://bid.bidfta.com/cgi-bin/mnlist.cgi?broadwellv108/TN071826',\n",
       "  '0.06\\nx 2 = 0.12'),\n",
       " ('2 ASSORTED ITEMS ',\n",
       "  'BRAND NEW',\n",
       "  'http://bid.bidfta.com/cgi-bin/mnlist.cgi?broadwellv108/TN071828',\n",
       "  '0.06\\nx 2 = 0.12'),\n",
       " ('3 ASSORTED ITEMS ',\n",
       "  'BRAND NEW',\n",
       "  'http://bid.bidfta.com/cgi-bin/mnlist.cgi?broadwellv108/TN071829',\n",
       "  '0.06\\nx 3 = 0.18'),\n",
       " ('3 ASSORTED ITEMS ',\n",
       "  'BRAND NEW',\n",
       "  'http://bid.bidfta.com/cgi-bin/mnlist.cgi?broadwellv108/TN071830',\n",
       "  '4.20\\nx 3 = 12.60'),\n",
       " ('2 ASSORTED ITEMS ',\n",
       "  'BRAND NEW',\n",
       "  'http://bid.bidfta.com/cgi-bin/mnlist.cgi?broadwellv108/TN071834',\n",
       "  '0.01\\nx 2 = 0.02'),\n",
       " ('2 ASSORTED ITEMS ',\n",
       "  'BRAND NEW',\n",
       "  'http://bid.bidfta.com/cgi-bin/mnlist.cgi?broadwellv108/TN071835',\n",
       "  0.01),\n",
       " ('3 ASSORTED ITEMS ',\n",
       "  'BRAND NEW',\n",
       "  'http://bid.bidfta.com/cgi-bin/mnlist.cgi?broadwellv108/TN071836',\n",
       "  '0.01\\nx 3 = 0.03'),\n",
       " ('3 ASSORTED ITEMS ',\n",
       "  'BRAND NEW',\n",
       "  'http://bid.bidfta.com/cgi-bin/mnlist.cgi?broadwellv108/TN071837',\n",
       "  '0.01\\nx 3 = 0.03'),\n",
       " ('3 ASSORTED ITEMS ',\n",
       "  'BRAND NEW',\n",
       "  'http://bid.bidfta.com/cgi-bin/mnlist.cgi?broadwellv108/TN071838',\n",
       "  '0.01\\nx 3 = 0.03'),\n",
       " ('3 ASSORTED ITEMS ',\n",
       "  'BRAND NEW',\n",
       "  'http://bid.bidfta.com/cgi-bin/mnlist.cgi?broadwellv108/TN071866',\n",
       "  '0.01\\nx 3 = 0.03'),\n",
       " ('2 ASSORTED ITEMS ',\n",
       "  'BRAND NEW',\n",
       "  'http://bid.bidfta.com/cgi-bin/mnlist.cgi?broadwellv108/TN071867',\n",
       "  '0.01\\nx 2 = 0.02'),\n",
       " ('4 ASSORTED ITEMS ',\n",
       "  'BRAND NEW',\n",
       "  'http://bid.bidfta.com/cgi-bin/mnlist.cgi?broadwellv108/TN071877',\n",
       "  '0.01\\nx 4 = 0.04'),\n",
       " ('2 ASSORTED ITEMS ',\n",
       "  'BRAND NEW',\n",
       "  'http://bid.bidfta.com/cgi-bin/mnlist.cgi?broadwellv108/TN071879',\n",
       "  '0.01\\nx 2 = 0.02'),\n",
       " ('2 ASSORTED ITEMS ',\n",
       "  'BRAND NEW',\n",
       "  'http://bid.bidfta.com/cgi-bin/mnlist.cgi?broadwellv108/TN071880',\n",
       "  '0.01\\nx 2 = 0.02'),\n",
       " ('5 ASSORTED ITEMS ',\n",
       "  'BRAND NEW',\n",
       "  'http://bid.bidfta.com/cgi-bin/mnlist.cgi?broadwellv108/TN071881',\n",
       "  '0.01\\nx 5 = 0.05'),\n",
       " ('3 ASSORTED ITEMS ',\n",
       "  'BRAND NEW',\n",
       "  'http://bid.bidfta.com/cgi-bin/mnlist.cgi?broadwellv108/TN071883',\n",
       "  '0.16\\nx 3 = 0.48'),\n",
       " ('3 ASSORTED ITEMS ',\n",
       "  'BRAND NEW',\n",
       "  'http://bid.bidfta.com/cgi-bin/mnlist.cgi?broadwellv108/TN071884',\n",
       "  '0.01\\nx 3 = 0.03'),\n",
       " ('2 ASSORTED ITEMS ',\n",
       "  'BRAND NEW',\n",
       "  'http://bid.bidfta.com/cgi-bin/mnlist.cgi?broadwellv108/TN071890',\n",
       "  '0.01\\nx 2 = 0.02'),\n",
       " ('2 ASSORTED DVDS',\n",
       "  'BRAND NEW',\n",
       "  'http://bid.bidfta.com/cgi-bin/mnlist.cgi?broadwellv108/TN071891',\n",
       "  0.06),\n",
       " ('2 ASSORTED ITEMS ',\n",
       "  'BRAND NEW',\n",
       "  'http://bid.bidfta.com/cgi-bin/mnlist.cgi?broadwellv108/TN071897',\n",
       "  '0.16\\nx 2 = 0.32'),\n",
       " ('2 ASSORTED ITEMS ',\n",
       "  'BRAND NEW',\n",
       "  'http://bid.bidfta.com/cgi-bin/mnlist.cgi?broadwellv108/TN071900',\n",
       "  '0.30\\nx 2 = 0.60')]"
      ]
     },
     "execution_count": 79,
     "metadata": {},
     "output_type": "execute_result"
    }
   ],
   "source": [
    "c.execute(\"select * from items where description like '%assorted%'\")\n",
    "c.fetchall()"
   ]
  },
  {
   "cell_type": "code",
   "execution_count": 56,
   "metadata": {
    "collapsed": false
   },
   "outputs": [
    {
     "data": {
      "text/plain": [
       "[<tr class=\"DataRow\" id=\"TN071803\" valign=\"top\"><td><a href=\"/cgi-bin/mnlist.cgi?broadwellv108/TN071803\">TN071803</a></td>\n",
       " <td align=\"center\"><a href=\"/cgi-bin/mnlist.cgi?broadwellv108/TN071803\"><img alt=\"TN071803t.jpg\" border=\"0\" src=\"http://d2c3kiufvhjdfg.cloudfront.net/Pics/TN071803t.jpg\"/></a></td><td><b>Item Desc</b>: STAINLESS STEEL FISH BASKET<br/><b>Load #</b>: 16178<br/><b>Lotter</b>: Mindy<br/><b>Additional Info</b>: BRAND NEW<br/><b>Item Location</b>: Broadwell<br/><b>Front Page</b>: <a href=\"http://www.bidfta.com\" target=\"_blank\">Click here to go back to Fast Track Auction Home Page</a> <br/><b>Twitter</b>: <a href=\"https://twitter.com/home?status=Check%20out%20this%20great%20deal%20I%20found%20on%20%23FastTrackIt%20%40BidFTA%20http%3A//bid.bidfta.com/cgi-bin/mnlist.cgi?/TN071803\">Twitter</a><br/><b>Facebook</b>: <a href=\"https://www.facebook.com/sharer/sharer.php?u=http%3A//bid.bidfta.com/cgi-bin/mnlist.cgi?/TN071803\">Facebook</a><br/><b>Pinterest</b>: <a href=\"https://pinterest.com/pin/create/button/?url=&amp;media=http%3A//bidfta.biz//TN071803t.jpg&amp;description=Check%20out%20this%20sweet%20deal%20I%20found%20on%20%23FastTrackIt%20%40BidFTA\">Pinterest</a><br/><b>Watchlist</b>: <a href=\"http://beta.watch-fta.com:8080/Watchlist/#/Add?name=TN071803\" target=\"_blank\"><img alt=\"Add to Watchlist\" src=\"http://d2c3kiufvhjdfg.cloudfront.net/Pics/wlbutton.png\"/></a><br/></td>\n",
       " <td align=\"right\"><a href=\"/cgi-bin/mnhistory.cgi?broadwellv108/TN071803\">4</a></td>\n",
       " <td align=\"right\">80613</td>\n",
       " <td align=\"right\">3.20</td>\n",
       " <td align=\"right\"> </td>\n",
       " <td align=\"center\" colspan=\"2\">ended</td></tr>,\n",
       " <tr bgcolor=\"#eeeeee\" class=\"DataRow\" id=\"TN071804\" valign=\"top\"><td><a href=\"/cgi-bin/mnlist.cgi?broadwellv108/TN071804\">TN071804</a></td>\n",
       " <td align=\"center\"><a href=\"/cgi-bin/mnlist.cgi?broadwellv108/TN071804\"><img alt=\"TN071804t.jpg\" border=\"0\" src=\"http://d2c3kiufvhjdfg.cloudfront.net/Pics/TN071804t.jpg\"/></a></td><td><b>Item Desc</b>: HICCAPOP SLEEP BUMPERS <br/><b>Load #</b>: 16178<br/><b>Lotter</b>: Mindy<br/><b>Additional Info</b>: BRAND NEW<br/><b>Item Location</b>: Broadwell<br/><b>Front Page</b>: <a href=\"http://www.bidfta.com\" target=\"_blank\">Click here to go back to Fast Track Auction Home Page</a> <br/><b>Twitter</b>: <a href=\"https://twitter.com/home?status=Check%20out%20this%20great%20deal%20I%20found%20on%20%23FastTrackIt%20%40BidFTA%20http%3A//bid.bidfta.com/cgi-bin/mnlist.cgi?/TN071804\">Twitter</a><br/><b>Facebook</b>: <a href=\"https://www.facebook.com/sharer/sharer.php?u=http%3A//bid.bidfta.com/cgi-bin/mnlist.cgi?/TN071804\">Facebook</a><br/><b>Pinterest</b>: <a href=\"https://pinterest.com/pin/create/button/?url=&amp;media=http%3A//bidfta.biz//TN071804t.jpg&amp;description=Check%20out%20this%20sweet%20deal%20I%20found%20on%20%23FastTrackIt%20%40BidFTA\">Pinterest</a><br/><b>Watchlist</b>: <a href=\"http://beta.watch-fta.com:8080/Watchlist/#/Add?name=TN071804\" target=\"_blank\"><img alt=\"Add to Watchlist\" src=\"http://d2c3kiufvhjdfg.cloudfront.net/Pics/wlbutton.png\"/></a><br/></td>\n",
       " <td align=\"right\"><a href=\"/cgi-bin/mnhistory.cgi?broadwellv108/TN071804\">4</a></td>\n",
       " <td align=\"right\">179575</td>\n",
       " <td align=\"right\">3.20</td>\n",
       " <td align=\"right\"> </td>\n",
       " <td align=\"center\" colspan=\"2\">ended</td></tr>,\n",
       " <tr class=\"DataRow\" id=\"TN071805\" valign=\"top\"><td><a href=\"/cgi-bin/mnlist.cgi?broadwellv108/TN071805\">TN071805</a></td>\n",
       " <td align=\"center\"><a href=\"/cgi-bin/mnlist.cgi?broadwellv108/TN071805\"><img alt=\"TN071805t.jpg\" border=\"0\" src=\"http://d2c3kiufvhjdfg.cloudfront.net/Pics/TN071805t.jpg\"/></a></td><td><b>Item Desc</b>: LED EDISON BULB 550 LUMENS <br/><b>Load #</b>: 16178<br/><b>Lotter</b>: Mindy<br/><b>Additional Info</b>: BRAND NEW<br/><b>Item Location</b>: Broadwell<br/><b>Front Page</b>: <a href=\"http://www.bidfta.com\" target=\"_blank\">Click here to go back to Fast Track Auction Home Page</a> <br/><b>Twitter</b>: <a href=\"https://twitter.com/home?status=Check%20out%20this%20great%20deal%20I%20found%20on%20%23FastTrackIt%20%40BidFTA%20http%3A//bid.bidfta.com/cgi-bin/mnlist.cgi?/TN071805\">Twitter</a><br/><b>Facebook</b>: <a href=\"https://www.facebook.com/sharer/sharer.php?u=http%3A//bid.bidfta.com/cgi-bin/mnlist.cgi?/TN071805\">Facebook</a><br/><b>Pinterest</b>: <a href=\"https://pinterest.com/pin/create/button/?url=&amp;media=http%3A//bidfta.biz//TN071805t.jpg&amp;description=Check%20out%20this%20sweet%20deal%20I%20found%20on%20%23FastTrackIt%20%40BidFTA\">Pinterest</a><br/><b>Watchlist</b>: <a href=\"http://beta.watch-fta.com:8080/Watchlist/#/Add?name=TN071805\" target=\"_blank\"><img alt=\"Add to Watchlist\" src=\"http://d2c3kiufvhjdfg.cloudfront.net/Pics/wlbutton.png\"/></a><br/></td>\n",
       " <td align=\"right\"><a href=\"/cgi-bin/mnhistory.cgi?broadwellv108/TN071805\">8</a></td>\n",
       " <td align=\"right\">197624</td>\n",
       " <td align=\"right\">3.70</td>\n",
       " <td align=\"right\"> </td>\n",
       " <td align=\"center\" colspan=\"2\">ended</td></tr>,\n",
       " <tr bgcolor=\"#eeeeee\" class=\"DataRow\" id=\"TN071806\" valign=\"top\"><td><a href=\"/cgi-bin/mnlist.cgi?broadwellv108/TN071806\">TN071806</a></td>\n",
       " <td align=\"center\"><a href=\"/cgi-bin/mnlist.cgi?broadwellv108/TN071806\"><img alt=\"TN071806t.jpg\" border=\"0\" src=\"http://d2c3kiufvhjdfg.cloudfront.net/Pics/TN071806t.jpg\"/></a></td><td><b>Item Desc</b>: INTER DESIGN SUCTION SHOWER BASKET <br/><b>Load #</b>: 16178<br/><b>Lotter</b>: Mindy<br/><b>Additional Info</b>: BRAND NEW<br/><b>Item Location</b>: Broadwell<br/><b>Front Page</b>: <a href=\"http://www.bidfta.com\" target=\"_blank\">Click here to go back to Fast Track Auction Home Page</a> <br/><b>Twitter</b>: <a href=\"https://twitter.com/home?status=Check%20out%20this%20great%20deal%20I%20found%20on%20%23FastTrackIt%20%40BidFTA%20http%3A//bid.bidfta.com/cgi-bin/mnlist.cgi?/TN071806\">Twitter</a><br/><b>Facebook</b>: <a href=\"https://www.facebook.com/sharer/sharer.php?u=http%3A//bid.bidfta.com/cgi-bin/mnlist.cgi?/TN071806\">Facebook</a><br/><b>Pinterest</b>: <a href=\"https://pinterest.com/pin/create/button/?url=&amp;media=http%3A//bidfta.biz//TN071806t.jpg&amp;description=Check%20out%20this%20sweet%20deal%20I%20found%20on%20%23FastTrackIt%20%40BidFTA\">Pinterest</a><br/><b>Watchlist</b>: <a href=\"http://beta.watch-fta.com:8080/Watchlist/#/Add?name=TN071806\" target=\"_blank\"><img alt=\"Add to Watchlist\" src=\"http://d2c3kiufvhjdfg.cloudfront.net/Pics/wlbutton.png\"/></a><br/></td>\n",
       " <td align=\"right\"><a href=\"/cgi-bin/mnhistory.cgi?broadwellv108/TN071806\">6</a></td>\n",
       " <td align=\"right\">120527</td>\n",
       " <td align=\"right\">2.89</td>\n",
       " <td align=\"right\"> </td>\n",
       " <td align=\"center\" colspan=\"2\">ended</td></tr>,\n",
       " <tr class=\"DataRow\" id=\"TN071807\" valign=\"top\"><td><a href=\"/cgi-bin/mnlist.cgi?broadwellv108/TN071807\">TN071807</a></td>\n",
       " <td align=\"center\"><a href=\"/cgi-bin/mnlist.cgi?broadwellv108/TN071807\"><img alt=\"TN071807t.jpg\" border=\"0\" src=\"http://d2c3kiufvhjdfg.cloudfront.net/Pics/TN071807t.jpg\"/></a></td><td><b>Item Desc</b>: SPNDO TI STATION <br/><b>Load #</b>: 16178<br/><b>Lotter</b>: Mindy<br/><b>Additional Info</b>: BRAND NEW<br/><b>Item Location</b>: Broadwell<br/><b>Front Page</b>: <a href=\"http://www.bidfta.com\" target=\"_blank\">Click here to go back to Fast Track Auction Home Page</a> <br/><b>Twitter</b>: <a href=\"https://twitter.com/home?status=Check%20out%20this%20great%20deal%20I%20found%20on%20%23FastTrackIt%20%40BidFTA%20http%3A//bid.bidfta.com/cgi-bin/mnlist.cgi?/TN071807\">Twitter</a><br/><b>Facebook</b>: <a href=\"https://www.facebook.com/sharer/sharer.php?u=http%3A//bid.bidfta.com/cgi-bin/mnlist.cgi?/TN071807\">Facebook</a><br/><b>Pinterest</b>: <a href=\"https://pinterest.com/pin/create/button/?url=&amp;media=http%3A//bidfta.biz//TN071807t.jpg&amp;description=Check%20out%20this%20sweet%20deal%20I%20found%20on%20%23FastTrackIt%20%40BidFTA\">Pinterest</a><br/><b>Watchlist</b>: <a href=\"http://beta.watch-fta.com:8080/Watchlist/#/Add?name=TN071807\" target=\"_blank\"><img alt=\"Add to Watchlist\" src=\"http://d2c3kiufvhjdfg.cloudfront.net/Pics/wlbutton.png\"/></a><br/></td>\n",
       " <td align=\"right\"><a href=\"/cgi-bin/mnhistory.cgi?broadwellv108/TN071807\">2</a></td>\n",
       " <td align=\"right\">116309</td>\n",
       " <td align=\"right\">0.06</td>\n",
       " <td align=\"right\"> </td>\n",
       " <td align=\"center\" colspan=\"2\">ended</td></tr>,\n",
       " <tr bgcolor=\"#eeeeee\" class=\"DataRow\" id=\"TN071808\" valign=\"top\"><td><a href=\"/cgi-bin/mnlist.cgi?broadwellv108/TN071808\">TN071808</a></td>\n",
       " <td align=\"center\"><a href=\"/cgi-bin/mnlist.cgi?broadwellv108/TN071808\"><img alt=\"TN071808t.jpg\" border=\"0\" src=\"http://d2c3kiufvhjdfg.cloudfront.net/Pics/TN071808t.jpg\"/></a></td><td><b>Item Desc</b>: COMFIFY GLASS CARAFE WITH DRIP  LID <br/><b>Load #</b>: 16178<br/><b>Lotter</b>: Mindy<br/><b>Additional Info</b>: BRAND NEW<br/><b>Item Location</b>: Broadwell<br/><b>Front Page</b>: <a href=\"http://www.bidfta.com\" target=\"_blank\">Click here to go back to Fast Track Auction Home Page</a> <br/><b>Twitter</b>: <a href=\"https://twitter.com/home?status=Check%20out%20this%20great%20deal%20I%20found%20on%20%23FastTrackIt%20%40BidFTA%20http%3A//bid.bidfta.com/cgi-bin/mnlist.cgi?/TN071808\">Twitter</a><br/><b>Facebook</b>: <a href=\"https://www.facebook.com/sharer/sharer.php?u=http%3A//bid.bidfta.com/cgi-bin/mnlist.cgi?/TN071808\">Facebook</a><br/><b>Pinterest</b>: <a href=\"https://pinterest.com/pin/create/button/?url=&amp;media=http%3A//bidfta.biz//TN071808t.jpg&amp;description=Check%20out%20this%20sweet%20deal%20I%20found%20on%20%23FastTrackIt%20%40BidFTA\">Pinterest</a><br/><b>Watchlist</b>: <a href=\"http://beta.watch-fta.com:8080/Watchlist/#/Add?name=TN071808\" target=\"_blank\"><img alt=\"Add to Watchlist\" src=\"http://d2c3kiufvhjdfg.cloudfront.net/Pics/wlbutton.png\"/></a><br/></td>\n",
       " <td align=\"right\"><a href=\"/cgi-bin/mnhistory.cgi?broadwellv108/TN071808\">11</a></td>\n",
       " <td align=\"right\">216984</td>\n",
       " <td align=\"right\">2.60</td>\n",
       " <td align=\"right\"> </td>\n",
       " <td align=\"center\" colspan=\"2\">ended</td></tr>,\n",
       " <tr class=\"DataRow\" id=\"TN071809\" valign=\"top\"><td><a href=\"/cgi-bin/mnlist.cgi?broadwellv108/TN071809\">TN071809</a></td>\n",
       " <td align=\"center\"><a href=\"/cgi-bin/mnlist.cgi?broadwellv108/TN071809\"><img alt=\"TN071809t.jpg\" border=\"0\" src=\"http://d2c3kiufvhjdfg.cloudfront.net/Pics/TN071809t.jpg\"/></a></td><td><b>Item Desc</b>: MATT HARD CASE WITH KEYBOARD SKIN <br/><b>Load #</b>: 16178<br/><b>Lotter</b>: Mindy<br/><b>Additional Info</b>: BRAND NEW<br/><b>Item Location</b>: Broadwell<br/><b>Front Page</b>: <a href=\"http://www.bidfta.com\" target=\"_blank\">Click here to go back to Fast Track Auction Home Page</a> <br/><b>Twitter</b>: <a href=\"https://twitter.com/home?status=Check%20out%20this%20great%20deal%20I%20found%20on%20%23FastTrackIt%20%40BidFTA%20http%3A//bid.bidfta.com/cgi-bin/mnlist.cgi?/TN071809\">Twitter</a><br/><b>Facebook</b>: <a href=\"https://www.facebook.com/sharer/sharer.php?u=http%3A//bid.bidfta.com/cgi-bin/mnlist.cgi?/TN071809\">Facebook</a><br/><b>Pinterest</b>: <a href=\"https://pinterest.com/pin/create/button/?url=&amp;media=http%3A//bidfta.biz//TN071809t.jpg&amp;description=Check%20out%20this%20sweet%20deal%20I%20found%20on%20%23FastTrackIt%20%40BidFTA\">Pinterest</a><br/><b>Watchlist</b>: <a href=\"http://beta.watch-fta.com:8080/Watchlist/#/Add?name=TN071809\" target=\"_blank\"><img alt=\"Add to Watchlist\" src=\"http://d2c3kiufvhjdfg.cloudfront.net/Pics/wlbutton.png\"/></a><br/></td>\n",
       " <td align=\"right\"><a href=\"/cgi-bin/mnhistory.cgi?broadwellv108/TN071809\">1</a></td>\n",
       " <td align=\"right\">116309</td>\n",
       " <td align=\"right\">0.01</td>\n",
       " <td align=\"right\"> </td>\n",
       " <td align=\"center\" colspan=\"2\">ended</td></tr>,\n",
       " <tr bgcolor=\"#eeeeee\" class=\"DataRow\" id=\"TN071810\" valign=\"top\"><td><a href=\"/cgi-bin/mnlist.cgi?broadwellv108/TN071810\">TN071810</a></td>\n",
       " <td align=\"center\"><a href=\"/cgi-bin/mnlist.cgi?broadwellv108/TN071810\"><img alt=\"TN071810t.jpg\" border=\"0\" src=\"http://d2c3kiufvhjdfg.cloudfront.net/Pics/TN071810t.jpg\"/></a></td><td><b>Item Desc</b>: INTER DESIGNS FABRIC SHOWER CURTAIN <br/><b>Load #</b>: 16178<br/><b>Lotter</b>: Mindy<br/><b>Additional Info</b>: BRAND NEW<br/><b>Item Location</b>: Broadwell<br/><b>Front Page</b>: <a href=\"http://www.bidfta.com\" target=\"_blank\">Click here to go back to Fast Track Auction Home Page</a> <br/><b>Twitter</b>: <a href=\"https://twitter.com/home?status=Check%20out%20this%20great%20deal%20I%20found%20on%20%23FastTrackIt%20%40BidFTA%20http%3A//bid.bidfta.com/cgi-bin/mnlist.cgi?/TN071810\">Twitter</a><br/><b>Facebook</b>: <a href=\"https://www.facebook.com/sharer/sharer.php?u=http%3A//bid.bidfta.com/cgi-bin/mnlist.cgi?/TN071810\">Facebook</a><br/><b>Pinterest</b>: <a href=\"https://pinterest.com/pin/create/button/?url=&amp;media=http%3A//bidfta.biz//TN071810t.jpg&amp;description=Check%20out%20this%20sweet%20deal%20I%20found%20on%20%23FastTrackIt%20%40BidFTA\">Pinterest</a><br/><b>Watchlist</b>: <a href=\"http://beta.watch-fta.com:8080/Watchlist/#/Add?name=TN071810\" target=\"_blank\"><img alt=\"Add to Watchlist\" src=\"http://d2c3kiufvhjdfg.cloudfront.net/Pics/wlbutton.png\"/></a><br/></td>\n",
       " <td align=\"right\"><a href=\"/cgi-bin/mnhistory.cgi?broadwellv108/TN071810\">7</a></td>\n",
       " <td align=\"right\">12976</td>\n",
       " <td align=\"right\">0.60</td>\n",
       " <td align=\"right\"> </td>\n",
       " <td align=\"center\" colspan=\"2\">ended</td></tr>,\n",
       " <tr class=\"DataRow\" id=\"TN071811\" valign=\"top\"><td><a href=\"/cgi-bin/mnlist.cgi?broadwellv108/TN071811\">TN071811</a></td>\n",
       " <td align=\"center\"><a href=\"/cgi-bin/mnlist.cgi?broadwellv108/TN071811\"><img alt=\"TN071811t.jpg\" border=\"0\" src=\"http://d2c3kiufvhjdfg.cloudfront.net/Pics/TN071811t.jpg\"/></a></td><td><b>Item Desc</b>: BUDDY BOXES BENTO STYLE 4 LUNCH BOXES <br/><b>Load #</b>: 16178<br/><b>Lotter</b>: Mindy<br/><b>Additional Info</b>: BRAND NEW<br/><b>Item Location</b>: Broadwell<br/><b>Front Page</b>: <a href=\"http://www.bidfta.com\" target=\"_blank\">Click here to go back to Fast Track Auction Home Page</a> <br/><b>Twitter</b>: <a href=\"https://twitter.com/home?status=Check%20out%20this%20great%20deal%20I%20found%20on%20%23FastTrackIt%20%40BidFTA%20http%3A//bid.bidfta.com/cgi-bin/mnlist.cgi?/TN071811\">Twitter</a><br/><b>Facebook</b>: <a href=\"https://www.facebook.com/sharer/sharer.php?u=http%3A//bid.bidfta.com/cgi-bin/mnlist.cgi?/TN071811\">Facebook</a><br/><b>Pinterest</b>: <a href=\"https://pinterest.com/pin/create/button/?url=&amp;media=http%3A//bidfta.biz//TN071811t.jpg&amp;description=Check%20out%20this%20sweet%20deal%20I%20found%20on%20%23FastTrackIt%20%40BidFTA\">Pinterest</a><br/><b>Watchlist</b>: <a href=\"http://beta.watch-fta.com:8080/Watchlist/#/Add?name=TN071811\" target=\"_blank\"><img alt=\"Add to Watchlist\" src=\"http://d2c3kiufvhjdfg.cloudfront.net/Pics/wlbutton.png\"/></a><br/></td>\n",
       " <td align=\"right\"><a href=\"/cgi-bin/mnhistory.cgi?broadwellv108/TN071811\">4</a></td>\n",
       " <td align=\"right\">180236</td>\n",
       " <td align=\"right\">1.98</td>\n",
       " <td align=\"right\"> </td>\n",
       " <td align=\"center\" colspan=\"2\">ended</td></tr>,\n",
       " <tr bgcolor=\"#eeeeee\" class=\"DataRow\" id=\"TN071812\" valign=\"top\"><td><a href=\"/cgi-bin/mnlist.cgi?broadwellv108/TN071812\">TN071812</a></td>\n",
       " <td align=\"center\"><a href=\"/cgi-bin/mnlist.cgi?broadwellv108/TN071812\"><img alt=\"TN071812t.jpg\" border=\"0\" src=\"http://d2c3kiufvhjdfg.cloudfront.net/Pics/TN071812t.jpg\"/></a></td><td><b>Item Desc</b>: LIGHTING GLOVES LED COLOR CHANGING BEARS PAW GLOVES <br/><b>Load #</b>: 16178<br/><b>Lotter</b>: Mindy<br/><b>Additional Info</b>: BRAND NEW<br/><b>Item Location</b>: Broadwell<br/><b>Front Page</b>: <a href=\"http://www.bidfta.com\" target=\"_blank\">Click here to go back to Fast Track Auction Home Page</a> <br/><b>Twitter</b>: <a href=\"https://twitter.com/home?status=Check%20out%20this%20great%20deal%20I%20found%20on%20%23FastTrackIt%20%40BidFTA%20http%3A//bid.bidfta.com/cgi-bin/mnlist.cgi?/TN071812\">Twitter</a><br/><b>Facebook</b>: <a href=\"https://www.facebook.com/sharer/sharer.php?u=http%3A//bid.bidfta.com/cgi-bin/mnlist.cgi?/TN071812\">Facebook</a><br/><b>Pinterest</b>: <a href=\"https://pinterest.com/pin/create/button/?url=&amp;media=http%3A//bidfta.biz//TN071812t.jpg&amp;description=Check%20out%20this%20sweet%20deal%20I%20found%20on%20%23FastTrackIt%20%40BidFTA\">Pinterest</a><br/><b>Watchlist</b>: <a href=\"http://beta.watch-fta.com:8080/Watchlist/#/Add?name=TN071812\" target=\"_blank\"><img alt=\"Add to Watchlist\" src=\"http://d2c3kiufvhjdfg.cloudfront.net/Pics/wlbutton.png\"/></a><br/></td>\n",
       " <td align=\"right\"><a href=\"/cgi-bin/mnhistory.cgi?broadwellv108/TN071812\">9</a></td>\n",
       " <td align=\"right\">252198</td>\n",
       " <td align=\"right\">3.47</td>\n",
       " <td align=\"right\"> </td>\n",
       " <td align=\"center\" colspan=\"2\">ended</td></tr>,\n",
       " <tr class=\"DataRow\" id=\"TN071813\" valign=\"top\"><td><a href=\"/cgi-bin/mnlist.cgi?broadwellv108/TN071813\">TN071813</a></td>\n",
       " <td align=\"center\"><a href=\"/cgi-bin/mnlist.cgi?broadwellv108/TN071813\"><img alt=\"TN071813t.jpg\" border=\"0\" src=\"http://d2c3kiufvhjdfg.cloudfront.net/Pics/TN071813t.jpg\"/></a></td><td><b>Item Desc</b>: BLACK CABLE BOX<br/><b>Load #</b>: 16178<br/><b>Lotter</b>: Mindy<br/><b>Additional Info</b>: BRAND NEW<br/><b>Item Location</b>: Broadwell<br/><b>Front Page</b>: <a href=\"http://www.bidfta.com\" target=\"_blank\">Click here to go back to Fast Track Auction Home Page</a> <br/><b>Twitter</b>: <a href=\"https://twitter.com/home?status=Check%20out%20this%20great%20deal%20I%20found%20on%20%23FastTrackIt%20%40BidFTA%20http%3A//bid.bidfta.com/cgi-bin/mnlist.cgi?/TN071813\">Twitter</a><br/><b>Facebook</b>: <a href=\"https://www.facebook.com/sharer/sharer.php?u=http%3A//bid.bidfta.com/cgi-bin/mnlist.cgi?/TN071813\">Facebook</a><br/><b>Pinterest</b>: <a href=\"https://pinterest.com/pin/create/button/?url=&amp;media=http%3A//bidfta.biz//TN071813t.jpg&amp;description=Check%20out%20this%20sweet%20deal%20I%20found%20on%20%23FastTrackIt%20%40BidFTA\">Pinterest</a><br/><b>Watchlist</b>: <a href=\"http://beta.watch-fta.com:8080/Watchlist/#/Add?name=TN071813\" target=\"_blank\"><img alt=\"Add to Watchlist\" src=\"http://d2c3kiufvhjdfg.cloudfront.net/Pics/wlbutton.png\"/></a><br/></td>\n",
       " <td align=\"right\"><a href=\"/cgi-bin/mnhistory.cgi?broadwellv108/TN071813\">2</a></td>\n",
       " <td align=\"right\">116309</td>\n",
       " <td align=\"right\">0.06</td>\n",
       " <td align=\"right\"> </td>\n",
       " <td align=\"center\" colspan=\"2\">ended</td></tr>,\n",
       " <tr bgcolor=\"#eeeeee\" class=\"DataRow\" id=\"TN071814\" valign=\"top\"><td><a href=\"/cgi-bin/mnlist.cgi?broadwellv108/TN071814\">TN071814</a></td>\n",
       " <td align=\"center\"><a href=\"/cgi-bin/mnlist.cgi?broadwellv108/TN071814\"><img alt=\"TN071814t.jpg\" border=\"0\" src=\"http://d2c3kiufvhjdfg.cloudfront.net/Pics/TN071814t.jpg\"/></a></td><td><b>Item Desc</b>: HOWARD LEIGHT SHOOTERS ELECTRONIC EARMUFF IMPACT SPORT<br/><b>Load #</b>: 16178<br/><b>Lotter</b>: Mindy<br/><b>Additional Info</b>: BRAND NEW<br/><b>Item Location</b>: Broadwell<br/><b>Front Page</b>: <a href=\"http://www.bidfta.com\" target=\"_blank\">Click here to go back to Fast Track Auction Home Page</a> <br/><b>Twitter</b>: <a href=\"https://twitter.com/home?status=Check%20out%20this%20great%20deal%20I%20found%20on%20%23FastTrackIt%20%40BidFTA%20http%3A//bid.bidfta.com/cgi-bin/mnlist.cgi?/TN071814\">Twitter</a><br/><b>Facebook</b>: <a href=\"https://www.facebook.com/sharer/sharer.php?u=http%3A//bid.bidfta.com/cgi-bin/mnlist.cgi?/TN071814\">Facebook</a><br/><b>Pinterest</b>: <a href=\"https://pinterest.com/pin/create/button/?url=&amp;media=http%3A//bidfta.biz//TN071814t.jpg&amp;description=Check%20out%20this%20sweet%20deal%20I%20found%20on%20%23FastTrackIt%20%40BidFTA\">Pinterest</a><br/><b>Watchlist</b>: <a href=\"http://beta.watch-fta.com:8080/Watchlist/#/Add?name=TN071814\" target=\"_blank\"><img alt=\"Add to Watchlist\" src=\"http://d2c3kiufvhjdfg.cloudfront.net/Pics/wlbutton.png\"/></a><br/></td>\n",
       " <td align=\"right\"><a href=\"/cgi-bin/mnhistory.cgi?broadwellv108/TN071814\">6</a></td>\n",
       " <td align=\"right\">220458</td>\n",
       " <td align=\"right\">15.00</td>\n",
       " <td align=\"right\"> </td>\n",
       " <td align=\"center\" colspan=\"2\">ended</td></tr>,\n",
       " <tr class=\"DataRow\" id=\"TN071815\" valign=\"top\"><td><a href=\"/cgi-bin/mnlist.cgi?broadwellv108/TN071815\">TN071815</a></td>\n",
       " <td align=\"center\"><a href=\"/cgi-bin/mnlist.cgi?broadwellv108/TN071815\"><img alt=\"TN071815t.jpg\" border=\"0\" src=\"http://d2c3kiufvhjdfg.cloudfront.net/Pics/TN071815t.jpg\"/></a></td><td><b>Item Desc</b>: NEWMOWA DOG HARNESS FOR GOPRO <br/><b>Load #</b>: 16178<br/><b>Lotter</b>: Mindy<br/><b>Additional Info</b>: BRAND NEW<br/><b>Item Location</b>: Broadwell<br/><b>Front Page</b>: <a href=\"http://www.bidfta.com\" target=\"_blank\">Click here to go back to Fast Track Auction Home Page</a> <br/><b>Twitter</b>: <a href=\"https://twitter.com/home?status=Check%20out%20this%20great%20deal%20I%20found%20on%20%23FastTrackIt%20%40BidFTA%20http%3A//bid.bidfta.com/cgi-bin/mnlist.cgi?/TN071815\">Twitter</a><br/><b>Facebook</b>: <a href=\"https://www.facebook.com/sharer/sharer.php?u=http%3A//bid.bidfta.com/cgi-bin/mnlist.cgi?/TN071815\">Facebook</a><br/><b>Pinterest</b>: <a href=\"https://pinterest.com/pin/create/button/?url=&amp;media=http%3A//bidfta.biz//TN071815t.jpg&amp;description=Check%20out%20this%20sweet%20deal%20I%20found%20on%20%23FastTrackIt%20%40BidFTA\">Pinterest</a><br/><b>Watchlist</b>: <a href=\"http://beta.watch-fta.com:8080/Watchlist/#/Add?name=TN071815\" target=\"_blank\"><img alt=\"Add to Watchlist\" src=\"http://d2c3kiufvhjdfg.cloudfront.net/Pics/wlbutton.png\"/></a><br/></td>\n",
       " <td align=\"right\"><a href=\"/cgi-bin/mnhistory.cgi?broadwellv108/TN071815\">4</a></td>\n",
       " <td align=\"right\">250122</td>\n",
       " <td align=\"right\">3.70</td>\n",
       " <td align=\"right\"> </td>\n",
       " <td align=\"center\" colspan=\"2\">ended</td></tr>,\n",
       " <tr bgcolor=\"#eeeeee\" class=\"DataRow\" id=\"TN071816\" valign=\"top\"><td><a href=\"/cgi-bin/mnlist.cgi?broadwellv108/TN071816\">TN071816</a></td>\n",
       " <td align=\"center\"><a href=\"/cgi-bin/mnlist.cgi?broadwellv108/TN071816\"><img alt=\"TN071816t.jpg\" border=\"0\" src=\"http://d2c3kiufvhjdfg.cloudfront.net/Pics/TN071816t.jpg\"/></a></td><td><b>Item Desc</b>: MULTIFUNCTIONAL LAWN HANGING BOTTLE RACK <br/><b>Load #</b>: 16178<br/><b>Lotter</b>: Mindy<br/><b>Additional Info</b>: BRAND NEW<br/><b>Item Location</b>: Broadwell<br/><b>Front Page</b>: <a href=\"http://www.bidfta.com\" target=\"_blank\">Click here to go back to Fast Track Auction Home Page</a> <br/><b>Twitter</b>: <a href=\"https://twitter.com/home?status=Check%20out%20this%20great%20deal%20I%20found%20on%20%23FastTrackIt%20%40BidFTA%20http%3A//bid.bidfta.com/cgi-bin/mnlist.cgi?/TN071816\">Twitter</a><br/><b>Facebook</b>: <a href=\"https://www.facebook.com/sharer/sharer.php?u=http%3A//bid.bidfta.com/cgi-bin/mnlist.cgi?/TN071816\">Facebook</a><br/><b>Pinterest</b>: <a href=\"https://pinterest.com/pin/create/button/?url=&amp;media=http%3A//bidfta.biz//TN071816t.jpg&amp;description=Check%20out%20this%20sweet%20deal%20I%20found%20on%20%23FastTrackIt%20%40BidFTA\">Pinterest</a><br/><b>Watchlist</b>: <a href=\"http://beta.watch-fta.com:8080/Watchlist/#/Add?name=TN071816\" target=\"_blank\"><img alt=\"Add to Watchlist\" src=\"http://d2c3kiufvhjdfg.cloudfront.net/Pics/wlbutton.png\"/></a><br/></td>\n",
       " <td align=\"right\"><a href=\"/cgi-bin/mnhistory.cgi?broadwellv108/TN071816\">3</a></td>\n",
       " <td align=\"right\">142915</td>\n",
       " <td align=\"right\">2.21</td>\n",
       " <td align=\"right\"> </td>\n",
       " <td align=\"center\" colspan=\"2\">ended</td></tr>,\n",
       " <tr class=\"DataRow\" id=\"TN071817\" valign=\"top\"><td><a href=\"/cgi-bin/mnlist.cgi?broadwellv108/TN071817\">TN071817</a></td>\n",
       " <td align=\"center\"><a href=\"/cgi-bin/mnlist.cgi?broadwellv108/TN071817\"><img alt=\"TN071817t.jpg\" border=\"0\" src=\"http://d2c3kiufvhjdfg.cloudfront.net/Pics/TN071817t.jpg\"/></a></td><td><b>Item Desc</b>: MCOQUE MATT HARD CASE WITH KEYBOARD SKIN <br/><b>Load #</b>: 16178<br/><b>Lotter</b>: Mindy<br/><b>Additional Info</b>: BRAND NEW<br/><b>Item Location</b>: Broadwell<br/><b>Front Page</b>: <a href=\"http://www.bidfta.com\" target=\"_blank\">Click here to go back to Fast Track Auction Home Page</a> <br/><b>Twitter</b>: <a href=\"https://twitter.com/home?status=Check%20out%20this%20great%20deal%20I%20found%20on%20%23FastTrackIt%20%40BidFTA%20http%3A//bid.bidfta.com/cgi-bin/mnlist.cgi?/TN071817\">Twitter</a><br/><b>Facebook</b>: <a href=\"https://www.facebook.com/sharer/sharer.php?u=http%3A//bid.bidfta.com/cgi-bin/mnlist.cgi?/TN071817\">Facebook</a><br/><b>Pinterest</b>: <a href=\"https://pinterest.com/pin/create/button/?url=&amp;media=http%3A//bidfta.biz//TN071817t.jpg&amp;description=Check%20out%20this%20sweet%20deal%20I%20found%20on%20%23FastTrackIt%20%40BidFTA\">Pinterest</a><br/><b>Watchlist</b>: <a href=\"http://beta.watch-fta.com:8080/Watchlist/#/Add?name=TN071817\" target=\"_blank\"><img alt=\"Add to Watchlist\" src=\"http://d2c3kiufvhjdfg.cloudfront.net/Pics/wlbutton.png\"/></a><br/></td>\n",
       " <td align=\"right\"><a href=\"/cgi-bin/mnhistory.cgi?broadwellv108/TN071817\">2</a></td>\n",
       " <td align=\"right\">243497</td>\n",
       " <td align=\"right\">0.11</td>\n",
       " <td align=\"right\"> </td>\n",
       " <td align=\"center\" colspan=\"2\">ended</td></tr>,\n",
       " <tr bgcolor=\"#eeeeee\" class=\"DataRow\" id=\"TN071818\" valign=\"top\"><td><a href=\"/cgi-bin/mnlist.cgi?broadwellv108/TN071818\">TN071818</a></td>\n",
       " <td align=\"center\"><a href=\"/cgi-bin/mnlist.cgi?broadwellv108/TN071818\"><img alt=\"TN071818t.jpg\" border=\"0\" src=\"http://d2c3kiufvhjdfg.cloudfront.net/Pics/TN071818t.jpg\"/></a></td><td><b>Item Desc</b>: STRAPLESS STRETCH SEAMLESS PADDED BRA<br/><b>Load #</b>: 16178<br/><b>Lotter</b>: Mindy<br/><b>Additional Info</b>: BRAND NEW<br/><b>Item Location</b>: Broadwell<br/><b>Front Page</b>: <a href=\"http://www.bidfta.com\" target=\"_blank\">Click here to go back to Fast Track Auction Home Page</a> <br/><b>Twitter</b>: <a href=\"https://twitter.com/home?status=Check%20out%20this%20great%20deal%20I%20found%20on%20%23FastTrackIt%20%40BidFTA%20http%3A//bid.bidfta.com/cgi-bin/mnlist.cgi?/TN071818\">Twitter</a><br/><b>Facebook</b>: <a href=\"https://www.facebook.com/sharer/sharer.php?u=http%3A//bid.bidfta.com/cgi-bin/mnlist.cgi?/TN071818\">Facebook</a><br/><b>Pinterest</b>: <a href=\"https://pinterest.com/pin/create/button/?url=&amp;media=http%3A//bidfta.biz//TN071818t.jpg&amp;description=Check%20out%20this%20sweet%20deal%20I%20found%20on%20%23FastTrackIt%20%40BidFTA\">Pinterest</a><br/><b>Watchlist</b>: <a href=\"http://beta.watch-fta.com:8080/Watchlist/#/Add?name=TN071818\" target=\"_blank\"><img alt=\"Add to Watchlist\" src=\"http://d2c3kiufvhjdfg.cloudfront.net/Pics/wlbutton.png\"/></a><br/></td>\n",
       " <td align=\"right\"><a href=\"/cgi-bin/mnhistory.cgi?broadwellv108/TN071818\">4</a></td>\n",
       " <td align=\"right\">98238</td>\n",
       " <td align=\"right\">0.21</td>\n",
       " <td align=\"right\"> </td>\n",
       " <td align=\"center\" colspan=\"2\">ended</td></tr>,\n",
       " <tr class=\"DataRow\" id=\"TN071819\" valign=\"top\"><td><a href=\"/cgi-bin/mnlist.cgi?broadwellv108/TN071819\">TN071819</a></td>\n",
       " <td align=\"center\"><a href=\"/cgi-bin/mnlist.cgi?broadwellv108/TN071819\"><img alt=\"TN071819t.jpg\" border=\"0\" src=\"http://d2c3kiufvhjdfg.cloudfront.net/Pics/TN071819t.jpg\"/></a></td><td><b>Item Desc</b>: GOARPOP BACKPACK<br/><b>Load #</b>: 16178<br/><b>Lotter</b>: Mindy<br/><b>Additional Info</b>: BRAND NEW<br/><b>Item Location</b>: Broadwell<br/><b>Front Page</b>: <a href=\"http://www.bidfta.com\" target=\"_blank\">Click here to go back to Fast Track Auction Home Page</a> <br/><b>Twitter</b>: <a href=\"https://twitter.com/home?status=Check%20out%20this%20great%20deal%20I%20found%20on%20%23FastTrackIt%20%40BidFTA%20http%3A//bid.bidfta.com/cgi-bin/mnlist.cgi?/TN071819\">Twitter</a><br/><b>Facebook</b>: <a href=\"https://www.facebook.com/sharer/sharer.php?u=http%3A//bid.bidfta.com/cgi-bin/mnlist.cgi?/TN071819\">Facebook</a><br/><b>Pinterest</b>: <a href=\"https://pinterest.com/pin/create/button/?url=&amp;media=http%3A//bidfta.biz//TN071819t.jpg&amp;description=Check%20out%20this%20sweet%20deal%20I%20found%20on%20%23FastTrackIt%20%40BidFTA\">Pinterest</a><br/><b>Watchlist</b>: <a href=\"http://beta.watch-fta.com:8080/Watchlist/#/Add?name=TN071819\" target=\"_blank\"><img alt=\"Add to Watchlist\" src=\"http://d2c3kiufvhjdfg.cloudfront.net/Pics/wlbutton.png\"/></a><br/></td>\n",
       " <td align=\"right\"><a href=\"/cgi-bin/mnhistory.cgi?broadwellv108/TN071819\">7</a></td>\n",
       " <td align=\"right\">197548</td>\n",
       " <td align=\"right\">7.05</td>\n",
       " <td align=\"right\"> </td>\n",
       " <td align=\"center\" colspan=\"2\">ended</td></tr>,\n",
       " <tr bgcolor=\"#eeeeee\" class=\"DataRow\" id=\"TN071820\" valign=\"top\"><td><a href=\"/cgi-bin/mnlist.cgi?broadwellv108/TN071820\">TN071820</a></td>\n",
       " <td align=\"center\"><a href=\"/cgi-bin/mnlist.cgi?broadwellv108/TN071820\"><img alt=\"TN071820t.jpg\" border=\"0\" src=\"http://d2c3kiufvhjdfg.cloudfront.net/Pics/TN071820t.jpg\"/></a></td><td><b>Item Desc</b>: LIARS MAZE THE BIG BLUFF GAME <br/><b>Load #</b>: 16178<br/><b>Lotter</b>: Mindy<br/><b>Additional Info</b>: BRAND NEW<br/><b>Item Location</b>: Broadwell<br/><b>Front Page</b>: <a href=\"http://www.bidfta.com\" target=\"_blank\">Click here to go back to Fast Track Auction Home Page</a> <br/><b>Twitter</b>: <a href=\"https://twitter.com/home?status=Check%20out%20this%20great%20deal%20I%20found%20on%20%23FastTrackIt%20%40BidFTA%20http%3A//bid.bidfta.com/cgi-bin/mnlist.cgi?/TN071820\">Twitter</a><br/><b>Facebook</b>: <a href=\"https://www.facebook.com/sharer/sharer.php?u=http%3A//bid.bidfta.com/cgi-bin/mnlist.cgi?/TN071820\">Facebook</a><br/><b>Pinterest</b>: <a href=\"https://pinterest.com/pin/create/button/?url=&amp;media=http%3A//bidfta.biz//TN071820t.jpg&amp;description=Check%20out%20this%20sweet%20deal%20I%20found%20on%20%23FastTrackIt%20%40BidFTA\">Pinterest</a><br/><b>Watchlist</b>: <a href=\"http://beta.watch-fta.com:8080/Watchlist/#/Add?name=TN071820\" target=\"_blank\"><img alt=\"Add to Watchlist\" src=\"http://d2c3kiufvhjdfg.cloudfront.net/Pics/wlbutton.png\"/></a><br/></td>\n",
       " <td align=\"right\"><a href=\"/cgi-bin/mnhistory.cgi?broadwellv108/TN071820\">5</a></td>\n",
       " <td align=\"right\">235115</td>\n",
       " <td align=\"right\">3.21</td>\n",
       " <td align=\"right\"> </td>\n",
       " <td align=\"center\" colspan=\"2\">ended</td></tr>,\n",
       " <tr class=\"DataRow\" id=\"TN071821\" valign=\"top\"><td><a href=\"/cgi-bin/mnlist.cgi?broadwellv108/TN071821\">TN071821</a></td>\n",
       " <td align=\"center\"><a href=\"/cgi-bin/mnlist.cgi?broadwellv108/TN071821\"><img alt=\"TN071821t.jpg\" border=\"0\" src=\"http://d2c3kiufvhjdfg.cloudfront.net/Pics/TN071821t.jpg\"/></a></td><td><b>Item Desc</b>: 4 ASSORTED ITEMS FOR BABY SHOWER<br/><b>Load #</b>: 16178<br/><b>Lotter</b>: Mindy<br/><b>Additional Info</b>: BRAND NEW<br/><b>Item Location</b>: Broadwell<br/><b>Front Page</b>: <a href=\"http://www.bidfta.com\" target=\"_blank\">Click here to go back to Fast Track Auction Home Page</a> <br/><b>Twitter</b>: <a href=\"https://twitter.com/home?status=Check%20out%20this%20great%20deal%20I%20found%20on%20%23FastTrackIt%20%40BidFTA%20http%3A//bid.bidfta.com/cgi-bin/mnlist.cgi?/TN071821\">Twitter</a><br/><b>Facebook</b>: <a href=\"https://www.facebook.com/sharer/sharer.php?u=http%3A//bid.bidfta.com/cgi-bin/mnlist.cgi?/TN071821\">Facebook</a><br/><b>Pinterest</b>: <a href=\"https://pinterest.com/pin/create/button/?url=&amp;media=http%3A//bidfta.biz//TN071821t.jpg&amp;description=Check%20out%20this%20sweet%20deal%20I%20found%20on%20%23FastTrackIt%20%40BidFTA\">Pinterest</a><br/><b>Watchlist</b>: <a href=\"http://beta.watch-fta.com:8080/Watchlist/#/Add?name=TN071821\" target=\"_blank\"><img alt=\"Add to Watchlist\" src=\"http://d2c3kiufvhjdfg.cloudfront.net/Pics/wlbutton.png\"/></a><br/></td>\n",
       " <td align=\"right\"><a href=\"/cgi-bin/mnhistory.cgi?broadwellv108/TN071821\">1</a></td>\n",
       " <td align=\"right\">99886</td>\n",
       " <td align=\"right\">0.01\n",
       " <br/>x 4 = 0.04</td>\n",
       " <td align=\"right\"> </td>\n",
       " <td align=\"center\" colspan=\"2\">ended</td></tr>,\n",
       " <tr bgcolor=\"#eeeeee\" class=\"DataRow\" id=\"TN071822\" valign=\"top\"><td><a href=\"/cgi-bin/mnlist.cgi?broadwellv108/TN071822\">TN071822</a></td>\n",
       " <td align=\"center\"><a href=\"/cgi-bin/mnlist.cgi?broadwellv108/TN071822\"><img alt=\"TN071822t.jpg\" border=\"0\" src=\"http://d2c3kiufvhjdfg.cloudfront.net/Pics/TN071822t.jpg\"/></a></td><td><b>Item Desc</b>: NEW LOOK SEWING PATTERNS<br/><b>Load #</b>: 16178<br/><b>Lotter</b>: Mindy<br/><b>Additional Info</b>: BRAND NEW<br/><b>Item Location</b>: Broadwell<br/><b>Front Page</b>: <a href=\"http://www.bidfta.com\" target=\"_blank\">Click here to go back to Fast Track Auction Home Page</a> <br/><b>Twitter</b>: <a href=\"https://twitter.com/home?status=Check%20out%20this%20great%20deal%20I%20found%20on%20%23FastTrackIt%20%40BidFTA%20http%3A//bid.bidfta.com/cgi-bin/mnlist.cgi?/TN071822\">Twitter</a><br/><b>Facebook</b>: <a href=\"https://www.facebook.com/sharer/sharer.php?u=http%3A//bid.bidfta.com/cgi-bin/mnlist.cgi?/TN071822\">Facebook</a><br/><b>Pinterest</b>: <a href=\"https://pinterest.com/pin/create/button/?url=&amp;media=http%3A//bidfta.biz//TN071822t.jpg&amp;description=Check%20out%20this%20sweet%20deal%20I%20found%20on%20%23FastTrackIt%20%40BidFTA\">Pinterest</a><br/><b>Watchlist</b>: <a href=\"http://beta.watch-fta.com:8080/Watchlist/#/Add?name=TN071822\" target=\"_blank\"><img alt=\"Add to Watchlist\" src=\"http://d2c3kiufvhjdfg.cloudfront.net/Pics/wlbutton.png\"/></a><br/></td>\n",
       " <td align=\"right\"><a href=\"/cgi-bin/mnhistory.cgi?broadwellv108/TN071822\">2</a></td>\n",
       " <td align=\"right\">192311</td>\n",
       " <td align=\"right\">0.06\n",
       " <br/>x 2 = 0.12</td>\n",
       " <td align=\"right\"> </td>\n",
       " <td align=\"center\" colspan=\"2\">ended</td></tr>,\n",
       " <tr class=\"DataRow\" id=\"TN071823\" valign=\"top\"><td><a href=\"/cgi-bin/mnlist.cgi?broadwellv108/TN071823\">TN071823</a></td>\n",
       " <td align=\"center\"><a href=\"/cgi-bin/mnlist.cgi?broadwellv108/TN071823\"><img alt=\"TN071823t.jpg\" border=\"0\" src=\"http://d2c3kiufvhjdfg.cloudfront.net/Pics/TN071823t.jpg\"/></a></td><td><b>Item Desc</b>: 3 ASSORTED CDS<br/><b>Load #</b>: 16178<br/><b>Lotter</b>: Mindy<br/><b>Additional Info</b>: BRAND NEW<br/><b>Item Location</b>: Broadwell<br/><b>Front Page</b>: <a href=\"http://www.bidfta.com\" target=\"_blank\">Click here to go back to Fast Track Auction Home Page</a> <br/><b>Twitter</b>: <a href=\"https://twitter.com/home?status=Check%20out%20this%20great%20deal%20I%20found%20on%20%23FastTrackIt%20%40BidFTA%20http%3A//bid.bidfta.com/cgi-bin/mnlist.cgi?/TN071823\">Twitter</a><br/><b>Facebook</b>: <a href=\"https://www.facebook.com/sharer/sharer.php?u=http%3A//bid.bidfta.com/cgi-bin/mnlist.cgi?/TN071823\">Facebook</a><br/><b>Pinterest</b>: <a href=\"https://pinterest.com/pin/create/button/?url=&amp;media=http%3A//bidfta.biz//TN071823t.jpg&amp;description=Check%20out%20this%20sweet%20deal%20I%20found%20on%20%23FastTrackIt%20%40BidFTA\">Pinterest</a><br/><b>Watchlist</b>: <a href=\"http://beta.watch-fta.com:8080/Watchlist/#/Add?name=TN071823\" target=\"_blank\"><img alt=\"Add to Watchlist\" src=\"http://d2c3kiufvhjdfg.cloudfront.net/Pics/wlbutton.png\"/></a><br/></td>\n",
       " <td align=\"right\"><a href=\"/cgi-bin/mnhistory.cgi?broadwellv108/TN071823\">1</a></td>\n",
       " <td align=\"right\">99886</td>\n",
       " <td align=\"right\">0.01</td>\n",
       " <td align=\"right\"> </td>\n",
       " <td align=\"center\" colspan=\"2\">ended</td></tr>,\n",
       " <tr bgcolor=\"#eeeeee\" class=\"DataRow\" id=\"TN071824\" valign=\"top\"><td><a href=\"/cgi-bin/mnlist.cgi?broadwellv108/TN071824\">TN071824</a></td>\n",
       " <td align=\"center\"><a href=\"/cgi-bin/mnlist.cgi?broadwellv108/TN071824\"><img alt=\"TN071824t.jpg\" border=\"0\" src=\"http://d2c3kiufvhjdfg.cloudfront.net/Pics/TN071824t.jpg\"/></a></td><td><b>Item Desc</b>: 2 ASSORTED PAIRS OF SOCKS <br/><b>Load #</b>: 16178<br/><b>Lotter</b>: Mindy<br/><b>Additional Info</b>: BRAND NEW<br/><b>Item Location</b>: Broadwell<br/><b>Front Page</b>: <a href=\"http://www.bidfta.com\" target=\"_blank\">Click here to go back to Fast Track Auction Home Page</a> <br/><b>Twitter</b>: <a href=\"https://twitter.com/home?status=Check%20out%20this%20great%20deal%20I%20found%20on%20%23FastTrackIt%20%40BidFTA%20http%3A//bid.bidfta.com/cgi-bin/mnlist.cgi?/TN071824\">Twitter</a><br/><b>Facebook</b>: <a href=\"https://www.facebook.com/sharer/sharer.php?u=http%3A//bid.bidfta.com/cgi-bin/mnlist.cgi?/TN071824\">Facebook</a><br/><b>Pinterest</b>: <a href=\"https://pinterest.com/pin/create/button/?url=&amp;media=http%3A//bidfta.biz//TN071824t.jpg&amp;description=Check%20out%20this%20sweet%20deal%20I%20found%20on%20%23FastTrackIt%20%40BidFTA\">Pinterest</a><br/><b>Watchlist</b>: <a href=\"http://beta.watch-fta.com:8080/Watchlist/#/Add?name=TN071824\" target=\"_blank\"><img alt=\"Add to Watchlist\" src=\"http://d2c3kiufvhjdfg.cloudfront.net/Pics/wlbutton.png\"/></a><br/></td>\n",
       " <td align=\"right\"><a href=\"/cgi-bin/mnhistory.cgi?broadwellv108/TN071824\">2</a></td>\n",
       " <td align=\"right\">217944</td>\n",
       " <td align=\"right\">0.33\n",
       " <br/>x 2 = 0.66</td>\n",
       " <td align=\"right\"> </td>\n",
       " <td align=\"center\" colspan=\"2\">ended</td></tr>,\n",
       " <tr class=\"DataRow\" id=\"TN071825\" valign=\"top\"><td><a href=\"/cgi-bin/mnlist.cgi?broadwellv108/TN071825\">TN071825</a></td>\n",
       " <td align=\"center\"><a href=\"/cgi-bin/mnlist.cgi?broadwellv108/TN071825\"><img alt=\"TN071825t.jpg\" border=\"0\" src=\"http://d2c3kiufvhjdfg.cloudfront.net/Pics/TN071825t.jpg\"/></a></td><td><b>Item Brand</b>: FETCHFUEL<br/><b>Item Desc</b>: FETCHFUEL OMEGA, 8 OZ BOTTLE<br/><b>Load #</b>: 16178<br/><b>Lotter</b>: Mindy<br/><b>Weight</b>: 0.15<br/><b>Additional Info</b>: BRAND NEW<br/><b>Item Location</b>: Broadwell<br/><b>Front Page</b>: <a href=\"http://www.bidfta.com\" target=\"_blank\">Click here to go back to Fast Track Auction Home Page</a> <br/><b>Twitter</b>: <a href=\"https://twitter.com/home?status=Check%20out%20this%20great%20deal%20I%20found%20on%20%23FastTrackIt%20%40BidFTA%20http%3A//bid.bidfta.com/cgi-bin/mnlist.cgi?/TN071825\">Twitter</a><br/><b>Facebook</b>: <a href=\"https://www.facebook.com/sharer/sharer.php?u=http%3A//bid.bidfta.com/cgi-bin/mnlist.cgi?/TN071825\">Facebook</a><br/><b>Pinterest</b>: <a href=\"https://pinterest.com/pin/create/button/?url=&amp;media=http%3A//bidfta.biz//TN071825t.jpg&amp;description=Check%20out%20this%20sweet%20deal%20I%20found%20on%20%23FastTrackIt%20%40BidFTA\">Pinterest</a><br/><b>Watchlist</b>: <a href=\"http://beta.watch-fta.com:8080/Watchlist/#/Add?name=TN071825\" target=\"_blank\"><img alt=\"Add to Watchlist\" src=\"http://d2c3kiufvhjdfg.cloudfront.net/Pics/wlbutton.png\"/></a><br/></td>\n",
       " <td align=\"right\"><a href=\"/cgi-bin/mnhistory.cgi?broadwellv108/TN071825\">1</a></td>\n",
       " <td align=\"right\">216254</td>\n",
       " <td align=\"right\">1.00\n",
       " <br/>x 2 = 2.00</td>\n",
       " <td align=\"right\"> </td>\n",
       " <td align=\"center\" colspan=\"2\">ended</td></tr>,\n",
       " <tr bgcolor=\"#eeeeee\" class=\"DataRow\" id=\"TN071826\" valign=\"top\"><td><a href=\"/cgi-bin/mnlist.cgi?broadwellv108/TN071826\">TN071826</a></td>\n",
       " <td align=\"center\"><a href=\"/cgi-bin/mnlist.cgi?broadwellv108/TN071826\"><img alt=\"TN071826t.jpg\" border=\"0\" src=\"http://d2c3kiufvhjdfg.cloudfront.net/Pics/TN071826t.jpg\"/></a></td><td><b>Item Desc</b>: 2 ASSORTED ITEMS <br/><b>Load #</b>: 16178<br/><b>Lotter</b>: Mindy<br/><b>Additional Info</b>: BRAND NEW<br/><b>Item Location</b>: Broadwell<br/><b>Front Page</b>: <a href=\"http://www.bidfta.com\" target=\"_blank\">Click here to go back to Fast Track Auction Home Page</a> <br/><b>Twitter</b>: <a href=\"https://twitter.com/home?status=Check%20out%20this%20great%20deal%20I%20found%20on%20%23FastTrackIt%20%40BidFTA%20http%3A//bid.bidfta.com/cgi-bin/mnlist.cgi?/TN071826\">Twitter</a><br/><b>Facebook</b>: <a href=\"https://www.facebook.com/sharer/sharer.php?u=http%3A//bid.bidfta.com/cgi-bin/mnlist.cgi?/TN071826\">Facebook</a><br/><b>Pinterest</b>: <a href=\"https://pinterest.com/pin/create/button/?url=&amp;media=http%3A//bidfta.biz//TN071826t.jpg&amp;description=Check%20out%20this%20sweet%20deal%20I%20found%20on%20%23FastTrackIt%20%40BidFTA\">Pinterest</a><br/><b>Watchlist</b>: <a href=\"http://beta.watch-fta.com:8080/Watchlist/#/Add?name=TN071826\" target=\"_blank\"><img alt=\"Add to Watchlist\" src=\"http://d2c3kiufvhjdfg.cloudfront.net/Pics/wlbutton.png\"/></a><br/></td>\n",
       " <td align=\"right\"><a href=\"/cgi-bin/mnhistory.cgi?broadwellv108/TN071826\">2</a></td>\n",
       " <td align=\"right\">194136</td>\n",
       " <td align=\"right\">0.06\n",
       " <br/>x 2 = 0.12</td>\n",
       " <td align=\"right\"> </td>\n",
       " <td align=\"center\" colspan=\"2\">ended</td></tr>,\n",
       " <tr class=\"DataRow\" id=\"TN071827\" valign=\"top\"><td><a href=\"/cgi-bin/mnlist.cgi?broadwellv108/TN071827\">TN071827</a></td>\n",
       " <td align=\"center\"><a href=\"/cgi-bin/mnlist.cgi?broadwellv108/TN071827\"><img alt=\"TN071827t.jpg\" border=\"0\" src=\"http://d2c3kiufvhjdfg.cloudfront.net/Pics/TN071827t.jpg\"/></a></td><td><b>Item Desc</b>: BUNDLE OF 3 MEN�S REVERSIBLE BOW TIES <br/><b>Load #</b>: 16178<br/><b>Lotter</b>: Mindy<br/><b>Additional Info</b>: BRAND NEW<br/><b>Item Location</b>: Broadwell<br/><b>Front Page</b>: <a href=\"http://www.bidfta.com\" target=\"_blank\">Click here to go back to Fast Track Auction Home Page</a> <br/><b>Twitter</b>: <a href=\"https://twitter.com/home?status=Check%20out%20this%20great%20deal%20I%20found%20on%20%23FastTrackIt%20%40BidFTA%20http%3A//bid.bidfta.com/cgi-bin/mnlist.cgi?/TN071827\">Twitter</a><br/><b>Facebook</b>: <a href=\"https://www.facebook.com/sharer/sharer.php?u=http%3A//bid.bidfta.com/cgi-bin/mnlist.cgi?/TN071827\">Facebook</a><br/><b>Pinterest</b>: <a href=\"https://pinterest.com/pin/create/button/?url=&amp;media=http%3A//bidfta.biz//TN071827t.jpg&amp;description=Check%20out%20this%20sweet%20deal%20I%20found%20on%20%23FastTrackIt%20%40BidFTA\">Pinterest</a><br/><b>Watchlist</b>: <a href=\"http://beta.watch-fta.com:8080/Watchlist/#/Add?name=TN071827\" target=\"_blank\"><img alt=\"Add to Watchlist\" src=\"http://d2c3kiufvhjdfg.cloudfront.net/Pics/wlbutton.png\"/></a><br/></td>\n",
       " <td align=\"right\"><a href=\"/cgi-bin/mnhistory.cgi?broadwellv108/TN071827\">1</a></td>\n",
       " <td align=\"right\">99886</td>\n",
       " <td align=\"right\">0.01\n",
       " <br/>x 2 = 0.02</td>\n",
       " <td align=\"right\"> </td>\n",
       " <td align=\"center\" colspan=\"2\">ended</td></tr>,\n",
       " <tr bgcolor=\"#eeeeee\" class=\"DataRow\" id=\"TN071828\" valign=\"top\"><td><a href=\"/cgi-bin/mnlist.cgi?broadwellv108/TN071828\">TN071828</a></td>\n",
       " <td align=\"center\"><a href=\"/cgi-bin/mnlist.cgi?broadwellv108/TN071828\"><img alt=\"TN071828t.jpg\" border=\"0\" src=\"http://d2c3kiufvhjdfg.cloudfront.net/Pics/TN071828t.jpg\"/></a></td><td><b>Item Desc</b>: 2 ASSORTED ITEMS <br/><b>Load #</b>: 16178<br/><b>Lotter</b>: Mindy<br/><b>Additional Info</b>: BRAND NEW<br/><b>Item Location</b>: Broadwell<br/><b>Front Page</b>: <a href=\"http://www.bidfta.com\" target=\"_blank\">Click here to go back to Fast Track Auction Home Page</a> <br/><b>Twitter</b>: <a href=\"https://twitter.com/home?status=Check%20out%20this%20great%20deal%20I%20found%20on%20%23FastTrackIt%20%40BidFTA%20http%3A//bid.bidfta.com/cgi-bin/mnlist.cgi?/TN071828\">Twitter</a><br/><b>Facebook</b>: <a href=\"https://www.facebook.com/sharer/sharer.php?u=http%3A//bid.bidfta.com/cgi-bin/mnlist.cgi?/TN071828\">Facebook</a><br/><b>Pinterest</b>: <a href=\"https://pinterest.com/pin/create/button/?url=&amp;media=http%3A//bidfta.biz//TN071828t.jpg&amp;description=Check%20out%20this%20sweet%20deal%20I%20found%20on%20%23FastTrackIt%20%40BidFTA\">Pinterest</a><br/><b>Watchlist</b>: <a href=\"http://beta.watch-fta.com:8080/Watchlist/#/Add?name=TN071828\" target=\"_blank\"><img alt=\"Add to Watchlist\" src=\"http://d2c3kiufvhjdfg.cloudfront.net/Pics/wlbutton.png\"/></a><br/></td>\n",
       " <td align=\"right\"><a href=\"/cgi-bin/mnhistory.cgi?broadwellv108/TN071828\">2</a></td>\n",
       " <td align=\"right\">233063</td>\n",
       " <td align=\"right\">0.06\n",
       " <br/>x 2 = 0.12</td>\n",
       " <td align=\"right\"> </td>\n",
       " <td align=\"center\" colspan=\"2\">ended</td></tr>,\n",
       " <tr class=\"DataRow\" id=\"TN071829\" valign=\"top\"><td><a href=\"/cgi-bin/mnlist.cgi?broadwellv108/TN071829\">TN071829</a></td>\n",
       " <td align=\"center\"><a href=\"/cgi-bin/mnlist.cgi?broadwellv108/TN071829\"><img alt=\"TN071829t.jpg\" border=\"0\" src=\"http://d2c3kiufvhjdfg.cloudfront.net/Pics/TN071829t.jpg\"/></a></td><td><b>Item Desc</b>: 3 ASSORTED ITEMS <br/><b>Load #</b>: 16178<br/><b>Lotter</b>: Mindy<br/><b>Additional Info</b>: BRAND NEW<br/><b>Item Location</b>: Broadwell<br/><b>Front Page</b>: <a href=\"http://www.bidfta.com\" target=\"_blank\">Click here to go back to Fast Track Auction Home Page</a> <br/><b>Twitter</b>: <a href=\"https://twitter.com/home?status=Check%20out%20this%20great%20deal%20I%20found%20on%20%23FastTrackIt%20%40BidFTA%20http%3A//bid.bidfta.com/cgi-bin/mnlist.cgi?/TN071829\">Twitter</a><br/><b>Facebook</b>: <a href=\"https://www.facebook.com/sharer/sharer.php?u=http%3A//bid.bidfta.com/cgi-bin/mnlist.cgi?/TN071829\">Facebook</a><br/><b>Pinterest</b>: <a href=\"https://pinterest.com/pin/create/button/?url=&amp;media=http%3A//bidfta.biz//TN071829t.jpg&amp;description=Check%20out%20this%20sweet%20deal%20I%20found%20on%20%23FastTrackIt%20%40BidFTA\">Pinterest</a><br/><b>Watchlist</b>: <a href=\"http://beta.watch-fta.com:8080/Watchlist/#/Add?name=TN071829\" target=\"_blank\"><img alt=\"Add to Watchlist\" src=\"http://d2c3kiufvhjdfg.cloudfront.net/Pics/wlbutton.png\"/></a><br/></td>\n",
       " <td align=\"right\"><a href=\"/cgi-bin/mnhistory.cgi?broadwellv108/TN071829\">2</a></td>\n",
       " <td align=\"right\">248296</td>\n",
       " <td align=\"right\">0.06\n",
       " <br/>x 3 = 0.18</td>\n",
       " <td align=\"right\"> </td>\n",
       " <td align=\"center\" colspan=\"2\">ended</td></tr>,\n",
       " <tr bgcolor=\"#eeeeee\" class=\"DataRow\" id=\"TN071830\" valign=\"top\"><td><a href=\"/cgi-bin/mnlist.cgi?broadwellv108/TN071830\">TN071830</a></td>\n",
       " <td align=\"center\"><a href=\"/cgi-bin/mnlist.cgi?broadwellv108/TN071830\"><img alt=\"TN071830t.jpg\" border=\"0\" src=\"http://d2c3kiufvhjdfg.cloudfront.net/Pics/TN071830t.jpg\"/></a></td><td><b>Item Desc</b>: 3 ASSORTED ITEMS <br/><b>Load #</b>: 16178<br/><b>Lotter</b>: Mindy<br/><b>Additional Info</b>: BRAND NEW<br/><b>Item Location</b>: Broadwell<br/><b>Front Page</b>: <a href=\"http://www.bidfta.com\" target=\"_blank\">Click here to go back to Fast Track Auction Home Page</a> <br/><b>Twitter</b>: <a href=\"https://twitter.com/home?status=Check%20out%20this%20great%20deal%20I%20found%20on%20%23FastTrackIt%20%40BidFTA%20http%3A//bid.bidfta.com/cgi-bin/mnlist.cgi?/TN071830\">Twitter</a><br/><b>Facebook</b>: <a href=\"https://www.facebook.com/sharer/sharer.php?u=http%3A//bid.bidfta.com/cgi-bin/mnlist.cgi?/TN071830\">Facebook</a><br/><b>Pinterest</b>: <a href=\"https://pinterest.com/pin/create/button/?url=&amp;media=http%3A//bidfta.biz//TN071830t.jpg&amp;description=Check%20out%20this%20sweet%20deal%20I%20found%20on%20%23FastTrackIt%20%40BidFTA\">Pinterest</a><br/><b>Watchlist</b>: <a href=\"http://beta.watch-fta.com:8080/Watchlist/#/Add?name=TN071830\" target=\"_blank\"><img alt=\"Add to Watchlist\" src=\"http://d2c3kiufvhjdfg.cloudfront.net/Pics/wlbutton.png\"/></a><br/></td>\n",
       " <td align=\"right\"><a href=\"/cgi-bin/mnhistory.cgi?broadwellv108/TN071830\">5</a></td>\n",
       " <td align=\"right\">250122</td>\n",
       " <td align=\"right\">4.20\n",
       " <br/>x 3 = 12.60</td>\n",
       " <td align=\"right\"> </td>\n",
       " <td align=\"center\" colspan=\"2\">ended</td></tr>,\n",
       " <tr class=\"DataRow\" id=\"TN071831\" valign=\"top\"><td><a href=\"/cgi-bin/mnlist.cgi?broadwellv108/TN071831\">TN071831</a></td>\n",
       " <td align=\"center\"><a href=\"/cgi-bin/mnlist.cgi?broadwellv108/TN071831\"><img alt=\"TN071831t.jpg\" border=\"0\" src=\"http://d2c3kiufvhjdfg.cloudfront.net/Pics/TN071831t.jpg\"/></a></td><td><b>Item Desc</b>: GERMANIUM TITANIUM SPORTS ENERGY ORNAMENT <br/><b>Load #</b>: 16178<br/><b>Lotter</b>: Mindy<br/><b>Additional Info</b>: BRAND NEW<br/><b>Item Location</b>: Broadwell<br/><b>Front Page</b>: <a href=\"http://www.bidfta.com\" target=\"_blank\">Click here to go back to Fast Track Auction Home Page</a> <br/><b>Twitter</b>: <a href=\"https://twitter.com/home?status=Check%20out%20this%20great%20deal%20I%20found%20on%20%23FastTrackIt%20%40BidFTA%20http%3A//bid.bidfta.com/cgi-bin/mnlist.cgi?/TN071831\">Twitter</a><br/><b>Facebook</b>: <a href=\"https://www.facebook.com/sharer/sharer.php?u=http%3A//bid.bidfta.com/cgi-bin/mnlist.cgi?/TN071831\">Facebook</a><br/><b>Pinterest</b>: <a href=\"https://pinterest.com/pin/create/button/?url=&amp;media=http%3A//bidfta.biz//TN071831t.jpg&amp;description=Check%20out%20this%20sweet%20deal%20I%20found%20on%20%23FastTrackIt%20%40BidFTA\">Pinterest</a><br/><b>Watchlist</b>: <a href=\"http://beta.watch-fta.com:8080/Watchlist/#/Add?name=TN071831\" target=\"_blank\"><img alt=\"Add to Watchlist\" src=\"http://d2c3kiufvhjdfg.cloudfront.net/Pics/wlbutton.png\"/></a><br/></td>\n",
       " <td align=\"right\"><a href=\"/cgi-bin/mnhistory.cgi?broadwellv108/TN071831\">1</a></td>\n",
       " <td align=\"right\">233206</td>\n",
       " <td align=\"right\">0.06</td>\n",
       " <td align=\"right\"> </td>\n",
       " <td align=\"center\" colspan=\"2\">ended</td></tr>,\n",
       " <tr bgcolor=\"#eeeeee\" class=\"DataRow\" id=\"TN071832\" valign=\"top\"><td><a href=\"/cgi-bin/mnlist.cgi?broadwellv108/TN071832\">TN071832</a></td>\n",
       " <td align=\"center\"><a href=\"/cgi-bin/mnlist.cgi?broadwellv108/TN071832\"><img alt=\"TN071832t.jpg\" border=\"0\" src=\"http://d2c3kiufvhjdfg.cloudfront.net/Pics/TN071832t.jpg\"/></a></td><td><b>Item Desc</b>: UDDER COVERS , NURSING COVER<br/><b>Load #</b>: 16178<br/><b>Lotter</b>: Mindy<br/><b>Additional Info</b>: BRAND NEW<br/><b>Item Location</b>: Broadwell<br/><b>Front Page</b>: <a href=\"http://www.bidfta.com\" target=\"_blank\">Click here to go back to Fast Track Auction Home Page</a> <br/><b>Twitter</b>: <a href=\"https://twitter.com/home?status=Check%20out%20this%20great%20deal%20I%20found%20on%20%23FastTrackIt%20%40BidFTA%20http%3A//bid.bidfta.com/cgi-bin/mnlist.cgi?/TN071832\">Twitter</a><br/><b>Facebook</b>: <a href=\"https://www.facebook.com/sharer/sharer.php?u=http%3A//bid.bidfta.com/cgi-bin/mnlist.cgi?/TN071832\">Facebook</a><br/><b>Pinterest</b>: <a href=\"https://pinterest.com/pin/create/button/?url=&amp;media=http%3A//bidfta.biz//TN071832t.jpg&amp;description=Check%20out%20this%20sweet%20deal%20I%20found%20on%20%23FastTrackIt%20%40BidFTA\">Pinterest</a><br/><b>Watchlist</b>: <a href=\"http://beta.watch-fta.com:8080/Watchlist/#/Add?name=TN071832\" target=\"_blank\"><img alt=\"Add to Watchlist\" src=\"http://d2c3kiufvhjdfg.cloudfront.net/Pics/wlbutton.png\"/></a><br/></td>\n",
       " <td align=\"right\"><a href=\"/cgi-bin/mnhistory.cgi?broadwellv108/TN071832\">3</a></td>\n",
       " <td align=\"right\">142915</td>\n",
       " <td align=\"right\">0.83</td>\n",
       " <td align=\"right\"> </td>\n",
       " <td align=\"center\" colspan=\"2\">ended</td></tr>,\n",
       " <tr class=\"DataRow\" id=\"TN071833\" valign=\"top\"><td><a href=\"/cgi-bin/mnlist.cgi?broadwellv108/TN071833\">TN071833</a></td>\n",
       " <td align=\"center\"><a href=\"/cgi-bin/mnlist.cgi?broadwellv108/TN071833\"><img alt=\"TN071833t.jpg\" border=\"0\" src=\"http://d2c3kiufvhjdfg.cloudfront.net/Pics/TN071833t.jpg\"/></a></td><td><b>Item Desc</b>: FOOT INSOLE PU GEL INSOLE <br/><b>Load #</b>: 16178<br/><b>Lotter</b>: Mindy<br/><b>Additional Info</b>: BRAND NEW<br/><b>Item Location</b>: Broadwell<br/><b>Front Page</b>: <a href=\"http://www.bidfta.com\" target=\"_blank\">Click here to go back to Fast Track Auction Home Page</a> <br/><b>Twitter</b>: <a href=\"https://twitter.com/home?status=Check%20out%20this%20great%20deal%20I%20found%20on%20%23FastTrackIt%20%40BidFTA%20http%3A//bid.bidfta.com/cgi-bin/mnlist.cgi?/TN071833\">Twitter</a><br/><b>Facebook</b>: <a href=\"https://www.facebook.com/sharer/sharer.php?u=http%3A//bid.bidfta.com/cgi-bin/mnlist.cgi?/TN071833\">Facebook</a><br/><b>Pinterest</b>: <a href=\"https://pinterest.com/pin/create/button/?url=&amp;media=http%3A//bidfta.biz//TN071833t.jpg&amp;description=Check%20out%20this%20sweet%20deal%20I%20found%20on%20%23FastTrackIt%20%40BidFTA\">Pinterest</a><br/><b>Watchlist</b>: <a href=\"http://beta.watch-fta.com:8080/Watchlist/#/Add?name=TN071833\" target=\"_blank\"><img alt=\"Add to Watchlist\" src=\"http://d2c3kiufvhjdfg.cloudfront.net/Pics/wlbutton.png\"/></a><br/></td>\n",
       " <td align=\"right\"><a href=\"/cgi-bin/mnhistory.cgi?broadwellv108/TN071833\">2</a></td>\n",
       " <td align=\"right\">183289</td>\n",
       " <td align=\"right\">0.06\n",
       " <br/>x 2 = 0.12</td>\n",
       " <td align=\"right\"> </td>\n",
       " <td align=\"center\" colspan=\"2\">ended</td></tr>,\n",
       " <tr bgcolor=\"#eeeeee\" class=\"DataRow\" id=\"TN071834\" valign=\"top\"><td><a href=\"/cgi-bin/mnlist.cgi?broadwellv108/TN071834\">TN071834</a></td>\n",
       " <td align=\"center\"><a href=\"/cgi-bin/mnlist.cgi?broadwellv108/TN071834\"><img alt=\"TN071834t.jpg\" border=\"0\" src=\"http://d2c3kiufvhjdfg.cloudfront.net/Pics/TN071834t.jpg\"/></a></td><td><b>Item Desc</b>: 2 ASSORTED ITEMS <br/><b>Load #</b>: 16178<br/><b>Lotter</b>: Mindy<br/><b>Additional Info</b>: BRAND NEW<br/><b>Item Location</b>: Broadwell<br/><b>Front Page</b>: <a href=\"http://www.bidfta.com\" target=\"_blank\">Click here to go back to Fast Track Auction Home Page</a> <br/><b>Twitter</b>: <a href=\"https://twitter.com/home?status=Check%20out%20this%20great%20deal%20I%20found%20on%20%23FastTrackIt%20%40BidFTA%20http%3A//bid.bidfta.com/cgi-bin/mnlist.cgi?/TN071834\">Twitter</a><br/><b>Facebook</b>: <a href=\"https://www.facebook.com/sharer/sharer.php?u=http%3A//bid.bidfta.com/cgi-bin/mnlist.cgi?/TN071834\">Facebook</a><br/><b>Pinterest</b>: <a href=\"https://pinterest.com/pin/create/button/?url=&amp;media=http%3A//bidfta.biz//TN071834t.jpg&amp;description=Check%20out%20this%20sweet%20deal%20I%20found%20on%20%23FastTrackIt%20%40BidFTA\">Pinterest</a><br/><b>Watchlist</b>: <a href=\"http://beta.watch-fta.com:8080/Watchlist/#/Add?name=TN071834\" target=\"_blank\"><img alt=\"Add to Watchlist\" src=\"http://d2c3kiufvhjdfg.cloudfront.net/Pics/wlbutton.png\"/></a><br/></td>\n",
       " <td align=\"right\"><a href=\"/cgi-bin/mnhistory.cgi?broadwellv108/TN071834\">1</a></td>\n",
       " <td align=\"right\">99886</td>\n",
       " <td align=\"right\">0.01\n",
       " <br/>x 2 = 0.02</td>\n",
       " <td align=\"right\"> </td>\n",
       " <td align=\"center\" colspan=\"2\">ended</td></tr>,\n",
       " <tr class=\"DataRow\" id=\"TN071835\" valign=\"top\"><td><a href=\"/cgi-bin/mnlist.cgi?broadwellv108/TN071835\">TN071835</a></td>\n",
       " <td align=\"center\"><a href=\"/cgi-bin/mnlist.cgi?broadwellv108/TN071835\"><img alt=\"TN071835t.jpg\" border=\"0\" src=\"http://d2c3kiufvhjdfg.cloudfront.net/Pics/TN071835t.jpg\"/></a></td><td><b>Item Desc</b>: 2 ASSORTED ITEMS <br/><b>Load #</b>: 16178<br/><b>Lotter</b>: Mindy<br/><b>Additional Info</b>: BRAND NEW<br/><b>Item Location</b>: Broadwell<br/><b>Front Page</b>: <a href=\"http://www.bidfta.com\" target=\"_blank\">Click here to go back to Fast Track Auction Home Page</a> <br/><b>Twitter</b>: <a href=\"https://twitter.com/home?status=Check%20out%20this%20great%20deal%20I%20found%20on%20%23FastTrackIt%20%40BidFTA%20http%3A//bid.bidfta.com/cgi-bin/mnlist.cgi?/TN071835\">Twitter</a><br/><b>Facebook</b>: <a href=\"https://www.facebook.com/sharer/sharer.php?u=http%3A//bid.bidfta.com/cgi-bin/mnlist.cgi?/TN071835\">Facebook</a><br/><b>Pinterest</b>: <a href=\"https://pinterest.com/pin/create/button/?url=&amp;media=http%3A//bidfta.biz//TN071835t.jpg&amp;description=Check%20out%20this%20sweet%20deal%20I%20found%20on%20%23FastTrackIt%20%40BidFTA\">Pinterest</a><br/><b>Watchlist</b>: <a href=\"http://beta.watch-fta.com:8080/Watchlist/#/Add?name=TN071835\" target=\"_blank\"><img alt=\"Add to Watchlist\" src=\"http://d2c3kiufvhjdfg.cloudfront.net/Pics/wlbutton.png\"/></a><br/></td>\n",
       " <td align=\"right\"><a href=\"/cgi-bin/mnhistory.cgi?broadwellv108/TN071835\">1</a></td>\n",
       " <td align=\"right\">99886</td>\n",
       " <td align=\"right\">0.01</td>\n",
       " <td align=\"right\"> </td>\n",
       " <td align=\"center\" colspan=\"2\">ended</td></tr>,\n",
       " <tr bgcolor=\"#eeeeee\" class=\"DataRow\" id=\"TN071836\" valign=\"top\"><td><a href=\"/cgi-bin/mnlist.cgi?broadwellv108/TN071836\">TN071836</a></td>\n",
       " <td align=\"center\"><a href=\"/cgi-bin/mnlist.cgi?broadwellv108/TN071836\"><img alt=\"TN071836t.jpg\" border=\"0\" src=\"http://d2c3kiufvhjdfg.cloudfront.net/Pics/TN071836t.jpg\"/></a></td><td><b>Item Desc</b>: 3 ASSORTED ITEMS <br/><b>Load #</b>: 16178<br/><b>Lotter</b>: Mindy<br/><b>Additional Info</b>: BRAND NEW<br/><b>Item Location</b>: Broadwell<br/><b>Front Page</b>: <a href=\"http://www.bidfta.com\" target=\"_blank\">Click here to go back to Fast Track Auction Home Page</a> <br/><b>Twitter</b>: <a href=\"https://twitter.com/home?status=Check%20out%20this%20great%20deal%20I%20found%20on%20%23FastTrackIt%20%40BidFTA%20http%3A//bid.bidfta.com/cgi-bin/mnlist.cgi?/TN071836\">Twitter</a><br/><b>Facebook</b>: <a href=\"https://www.facebook.com/sharer/sharer.php?u=http%3A//bid.bidfta.com/cgi-bin/mnlist.cgi?/TN071836\">Facebook</a><br/><b>Pinterest</b>: <a href=\"https://pinterest.com/pin/create/button/?url=&amp;media=http%3A//bidfta.biz//TN071836t.jpg&amp;description=Check%20out%20this%20sweet%20deal%20I%20found%20on%20%23FastTrackIt%20%40BidFTA\">Pinterest</a><br/><b>Watchlist</b>: <a href=\"http://beta.watch-fta.com:8080/Watchlist/#/Add?name=TN071836\" target=\"_blank\"><img alt=\"Add to Watchlist\" src=\"http://d2c3kiufvhjdfg.cloudfront.net/Pics/wlbutton.png\"/></a><br/></td>\n",
       " <td align=\"right\"><a href=\"/cgi-bin/mnhistory.cgi?broadwellv108/TN071836\">1</a></td>\n",
       " <td align=\"right\">99886</td>\n",
       " <td align=\"right\">0.01\n",
       " <br/>x 3 = 0.03</td>\n",
       " <td align=\"right\"> </td>\n",
       " <td align=\"center\" colspan=\"2\">ended</td></tr>,\n",
       " <tr class=\"DataRow\" id=\"TN071837\" valign=\"top\"><td><a href=\"/cgi-bin/mnlist.cgi?broadwellv108/TN071837\">TN071837</a></td>\n",
       " <td align=\"center\"><a href=\"/cgi-bin/mnlist.cgi?broadwellv108/TN071837\"><img alt=\"TN071837t.jpg\" border=\"0\" src=\"http://d2c3kiufvhjdfg.cloudfront.net/Pics/TN071837t.jpg\"/></a></td><td><b>Item Desc</b>: 3 ASSORTED ITEMS <br/><b>Load #</b>: 16178<br/><b>Lotter</b>: Mindy<br/><b>Additional Info</b>: BRAND NEW<br/><b>Item Location</b>: Broadwell<br/><b>Front Page</b>: <a href=\"http://www.bidfta.com\" target=\"_blank\">Click here to go back to Fast Track Auction Home Page</a> <br/><b>Twitter</b>: <a href=\"https://twitter.com/home?status=Check%20out%20this%20great%20deal%20I%20found%20on%20%23FastTrackIt%20%40BidFTA%20http%3A//bid.bidfta.com/cgi-bin/mnlist.cgi?/TN071837\">Twitter</a><br/><b>Facebook</b>: <a href=\"https://www.facebook.com/sharer/sharer.php?u=http%3A//bid.bidfta.com/cgi-bin/mnlist.cgi?/TN071837\">Facebook</a><br/><b>Pinterest</b>: <a href=\"https://pinterest.com/pin/create/button/?url=&amp;media=http%3A//bidfta.biz//TN071837t.jpg&amp;description=Check%20out%20this%20sweet%20deal%20I%20found%20on%20%23FastTrackIt%20%40BidFTA\">Pinterest</a><br/><b>Watchlist</b>: <a href=\"http://beta.watch-fta.com:8080/Watchlist/#/Add?name=TN071837\" target=\"_blank\"><img alt=\"Add to Watchlist\" src=\"http://d2c3kiufvhjdfg.cloudfront.net/Pics/wlbutton.png\"/></a><br/></td>\n",
       " <td align=\"right\"><a href=\"/cgi-bin/mnhistory.cgi?broadwellv108/TN071837\">1</a></td>\n",
       " <td align=\"right\">99886</td>\n",
       " <td align=\"right\">0.01\n",
       " <br/>x 3 = 0.03</td>\n",
       " <td align=\"right\"> </td>\n",
       " <td align=\"center\" colspan=\"2\">ended</td></tr>,\n",
       " <tr bgcolor=\"#eeeeee\" class=\"DataRow\" id=\"TN071838\" valign=\"top\"><td><a href=\"/cgi-bin/mnlist.cgi?broadwellv108/TN071838\">TN071838</a></td>\n",
       " <td align=\"center\"><a href=\"/cgi-bin/mnlist.cgi?broadwellv108/TN071838\"><img alt=\"TN071838t.jpg\" border=\"0\" src=\"http://d2c3kiufvhjdfg.cloudfront.net/Pics/TN071838t.jpg\"/></a></td><td><b>Item Desc</b>: 3 ASSORTED ITEMS <br/><b>Load #</b>: 16178<br/><b>Lotter</b>: Mindy<br/><b>Additional Info</b>: BRAND NEW<br/><b>Item Location</b>: Broadwell<br/><b>Front Page</b>: <a href=\"http://www.bidfta.com\" target=\"_blank\">Click here to go back to Fast Track Auction Home Page</a> <br/><b>Twitter</b>: <a href=\"https://twitter.com/home?status=Check%20out%20this%20great%20deal%20I%20found%20on%20%23FastTrackIt%20%40BidFTA%20http%3A//bid.bidfta.com/cgi-bin/mnlist.cgi?/TN071838\">Twitter</a><br/><b>Facebook</b>: <a href=\"https://www.facebook.com/sharer/sharer.php?u=http%3A//bid.bidfta.com/cgi-bin/mnlist.cgi?/TN071838\">Facebook</a><br/><b>Pinterest</b>: <a href=\"https://pinterest.com/pin/create/button/?url=&amp;media=http%3A//bidfta.biz//TN071838t.jpg&amp;description=Check%20out%20this%20sweet%20deal%20I%20found%20on%20%23FastTrackIt%20%40BidFTA\">Pinterest</a><br/><b>Watchlist</b>: <a href=\"http://beta.watch-fta.com:8080/Watchlist/#/Add?name=TN071838\" target=\"_blank\"><img alt=\"Add to Watchlist\" src=\"http://d2c3kiufvhjdfg.cloudfront.net/Pics/wlbutton.png\"/></a><br/></td>\n",
       " <td align=\"right\"><a href=\"/cgi-bin/mnhistory.cgi?broadwellv108/TN071838\">1</a></td>\n",
       " <td align=\"right\">99886</td>\n",
       " <td align=\"right\">0.01\n",
       " <br/>x 3 = 0.03</td>\n",
       " <td align=\"right\"> </td>\n",
       " <td align=\"center\" colspan=\"2\">ended</td></tr>,\n",
       " <tr class=\"DataRow\" id=\"TN071839\" valign=\"top\"><td><a href=\"/cgi-bin/mnlist.cgi?broadwellv108/TN071839\">TN071839</a></td>\n",
       " <td align=\"center\"><a href=\"/cgi-bin/mnlist.cgi?broadwellv108/TN071839\"><img alt=\"TN071839t.jpg\" border=\"0\" src=\"http://d2c3kiufvhjdfg.cloudfront.net/Pics/TN071839t.jpg\"/></a></td><td><b>Item Desc</b>: COPPER KNIFE AS SEEN ON TV - NEW!!!<br/><b>Model</b>: TEK090<br/><b>Load #</b>: 22616<br/><b>Lotter</b>: Mindy<br/><b>Depth</b>: 12<br/><b>Height</b>: 1<br/><b>Additional Info</b>: BRAND NEW<br/><b>Item Location</b>: Broadwell<br/><b>Front Page</b>: <a href=\"http://www.bidfta.com\" target=\"_blank\">Click here to go back to Fast Track Auction Home Page</a> <br/><b>Twitter</b>: <a href=\"https://twitter.com/home?status=Check%20out%20this%20great%20deal%20I%20found%20on%20%23FastTrackIt%20%40BidFTA%20http%3A//bid.bidfta.com/cgi-bin/mnlist.cgi?/TN071839\">Twitter</a><br/><b>Facebook</b>: <a href=\"https://www.facebook.com/sharer/sharer.php?u=http%3A//bid.bidfta.com/cgi-bin/mnlist.cgi?/TN071839\">Facebook</a><br/><b>Pinterest</b>: <a href=\"https://pinterest.com/pin/create/button/?url=&amp;media=http%3A//bidfta.biz//TN071839t.jpg&amp;description=Check%20out%20this%20sweet%20deal%20I%20found%20on%20%23FastTrackIt%20%40BidFTA\">Pinterest</a><br/><b>Watchlist</b>: <a href=\"http://beta.watch-fta.com:8080/Watchlist/#/Add?name=TN071839\" target=\"_blank\"><img alt=\"Add to Watchlist\" src=\"http://d2c3kiufvhjdfg.cloudfront.net/Pics/wlbutton.png\"/></a><br/></td>\n",
       " <td align=\"right\"><a href=\"/cgi-bin/mnhistory.cgi?broadwellv108/TN071839\">11</a></td>\n",
       " <td align=\"right\">247692</td>\n",
       " <td align=\"right\">3.40</td>\n",
       " <td align=\"right\"> </td>\n",
       " <td align=\"center\" colspan=\"2\">ended</td></tr>,\n",
       " <tr bgcolor=\"#eeeeee\" class=\"DataRow\" id=\"TN071840\" valign=\"top\"><td><a href=\"/cgi-bin/mnlist.cgi?broadwellv108/TN071840\">TN071840</a></td>\n",
       " <td align=\"center\"><a href=\"/cgi-bin/mnlist.cgi?broadwellv108/TN071840\"><img alt=\"TN071840t.jpg\" border=\"0\" src=\"http://d2c3kiufvhjdfg.cloudfront.net/Pics/TN071840t.jpg\"/></a></td><td><b>Item Brand</b>: ET�RNITY BODY SPRAY<br/><b>Item Desc</b>: C/K &lt; ET�RNITY C�LOGNE &gt; MEN 5.4 OZ BODY SPRAY<br/><b>Load #</b>: 22647<br/><b>Lotter</b>: Mindy<br/><b>Additional Info</b>: BRAND NEW<br/><b>Item Location</b>: Broadwell<br/><b>Front Page</b>: <a href=\"http://www.bidfta.com\" target=\"_blank\">Click here to go back to Fast Track Auction Home Page</a> <br/><b>Twitter</b>: <a href=\"https://twitter.com/home?status=Check%20out%20this%20great%20deal%20I%20found%20on%20%23FastTrackIt%20%40BidFTA%20http%3A//bid.bidfta.com/cgi-bin/mnlist.cgi?/TN071840\">Twitter</a><br/><b>Facebook</b>: <a href=\"https://www.facebook.com/sharer/sharer.php?u=http%3A//bid.bidfta.com/cgi-bin/mnlist.cgi?/TN071840\">Facebook</a><br/><b>Pinterest</b>: <a href=\"https://pinterest.com/pin/create/button/?url=&amp;media=http%3A//bidfta.biz//TN071840t.jpg&amp;description=Check%20out%20this%20sweet%20deal%20I%20found%20on%20%23FastTrackIt%20%40BidFTA\">Pinterest</a><br/><b>Watchlist</b>: <a href=\"http://beta.watch-fta.com:8080/Watchlist/#/Add?name=TN071840\" target=\"_blank\"><img alt=\"Add to Watchlist\" src=\"http://d2c3kiufvhjdfg.cloudfront.net/Pics/wlbutton.png\"/></a><br/></td>\n",
       " <td align=\"right\"><a href=\"/cgi-bin/mnhistory.cgi?broadwellv108/TN071840\">6</a></td>\n",
       " <td align=\"right\">241702</td>\n",
       " <td align=\"right\">3.20</td>\n",
       " <td align=\"right\"> </td>\n",
       " <td align=\"center\" colspan=\"2\">ended</td></tr>,\n",
       " <tr class=\"DataRow\" id=\"TN071841\" valign=\"top\"><td><a href=\"/cgi-bin/mnlist.cgi?broadwellv108/TN071841\">TN071841</a></td>\n",
       " <td align=\"center\"><a href=\"/cgi-bin/mnlist.cgi?broadwellv108/TN071841\"><img alt=\"TN071841t.jpg\" border=\"0\" src=\"http://d2c3kiufvhjdfg.cloudfront.net/Pics/TN071841t.jpg\"/></a></td><td><b>Item Desc</b>: NEWLID COOLING TOWEL BLUE<br/><b>Load #</b>: 21732<br/><b>Lotter</b>: Mindy<br/><b>Additional Info</b>: BRAND NEW<br/><b>Item Location</b>: Broadwell<br/><b>Front Page</b>: <a href=\"http://www.bidfta.com\" target=\"_blank\">Click here to go back to Fast Track Auction Home Page</a> <br/><b>Twitter</b>: <a href=\"https://twitter.com/home?status=Check%20out%20this%20great%20deal%20I%20found%20on%20%23FastTrackIt%20%40BidFTA%20http%3A//bid.bidfta.com/cgi-bin/mnlist.cgi?/TN071841\">Twitter</a><br/><b>Facebook</b>: <a href=\"https://www.facebook.com/sharer/sharer.php?u=http%3A//bid.bidfta.com/cgi-bin/mnlist.cgi?/TN071841\">Facebook</a><br/><b>Pinterest</b>: <a href=\"https://pinterest.com/pin/create/button/?url=&amp;media=http%3A//bidfta.biz//TN071841t.jpg&amp;description=Check%20out%20this%20sweet%20deal%20I%20found%20on%20%23FastTrackIt%20%40BidFTA\">Pinterest</a><br/><b>Watchlist</b>: <a href=\"http://beta.watch-fta.com:8080/Watchlist/#/Add?name=TN071841\" target=\"_blank\"><img alt=\"Add to Watchlist\" src=\"http://d2c3kiufvhjdfg.cloudfront.net/Pics/wlbutton.png\"/></a><br/></td>\n",
       " <td align=\"right\"><a href=\"/cgi-bin/mnhistory.cgi?broadwellv108/TN071841\">9</a></td>\n",
       " <td align=\"right\">126908</td>\n",
       " <td align=\"right\">2.20</td>\n",
       " <td align=\"right\"> </td>\n",
       " <td align=\"center\" colspan=\"2\">ended</td></tr>,\n",
       " <tr bgcolor=\"#eeeeee\" class=\"DataRow\" id=\"TN071842\" valign=\"top\"><td><a href=\"/cgi-bin/mnlist.cgi?broadwellv108/TN071842\">TN071842</a></td>\n",
       " <td align=\"center\"><a href=\"/cgi-bin/mnlist.cgi?broadwellv108/TN071842\"><img alt=\"TN071842t.jpg\" border=\"0\" src=\"http://d2c3kiufvhjdfg.cloudfront.net/Pics/TN071842t.jpg\"/></a></td><td><b>Item Brand</b>: MUGBREW<br/><b>Item Desc</b>: MUGBREW DONUT MESS WITH ME WHITE CERAMIC COFFEE MUG TEA CUP, 11 OZ<br/><b>MSRP</b>: 11.99<br/><b>Model</b>: CM<br/><b>Load #</b>: 21732<br/><b>Lotter</b>: Mindy<br/><b>Depth</b>: 3.81<br/><b>Height</b>: 3.14<br/><b>Additional Info</b>: BRAND NEW<br/><b>Item Location</b>: Broadwell<br/><b>Front Page</b>: <a href=\"http://www.bidfta.com\" target=\"_blank\">Click here to go back to Fast Track Auction Home Page</a> <br/><b>Twitter</b>: <a href=\"https://twitter.com/home?status=Check%20out%20this%20great%20deal%20I%20found%20on%20%23FastTrackIt%20%40BidFTA%20http%3A//bid.bidfta.com/cgi-bin/mnlist.cgi?/TN071842\">Twitter</a><br/><b>Facebook</b>: <a href=\"https://www.facebook.com/sharer/sharer.php?u=http%3A//bid.bidfta.com/cgi-bin/mnlist.cgi?/TN071842\">Facebook</a><br/><b>Pinterest</b>: <a href=\"https://pinterest.com/pin/create/button/?url=&amp;media=http%3A//bidfta.biz//TN071842t.jpg&amp;description=Check%20out%20this%20sweet%20deal%20I%20found%20on%20%23FastTrackIt%20%40BidFTA\">Pinterest</a><br/><b>Watchlist</b>: <a href=\"http://beta.watch-fta.com:8080/Watchlist/#/Add?name=TN071842\" target=\"_blank\"><img alt=\"Add to Watchlist\" src=\"http://d2c3kiufvhjdfg.cloudfront.net/Pics/wlbutton.png\"/></a><br/></td>\n",
       " <td align=\"right\"><a href=\"/cgi-bin/mnhistory.cgi?broadwellv108/TN071842\">5</a></td>\n",
       " <td align=\"right\">233063</td>\n",
       " <td align=\"right\">1.00</td>\n",
       " <td align=\"right\"> </td>\n",
       " <td align=\"center\" colspan=\"2\">ended</td></tr>,\n",
       " <tr class=\"DataRow\" id=\"TN071843\" valign=\"top\"><td><a href=\"/cgi-bin/mnlist.cgi?broadwellv108/TN071843\">TN071843</a></td>\n",
       " <td align=\"center\"><a href=\"/cgi-bin/mnlist.cgi?broadwellv108/TN071843\"><img alt=\"TN071843t.jpg\" border=\"0\" src=\"http://d2c3kiufvhjdfg.cloudfront.net/Pics/TN071843t.jpg\"/></a></td><td><b>Item Brand</b>: IOTTIE<br/><b>Item Desc</b>: IOTTIE EASY ONE TOUCH 2 CAR MOUNT UNIVERSAL PHONE HOLDER FOR IPHONE X 8/8 PLUS 7 7 PLUS 6S PLUS 6S 6 SE SAMSUNG GALAXY S9 S9 PLUS S8 PLUS S8 EDGE S7 S6 NOTE 8 5<br/><b>MSRP</b>: 29.95<br/><b>Model</b>: HLCRIO121AM<br/><b>Load #</b>: 21732<br/><b>Lotter</b>: Mindy<br/><b>Depth</b>: 4.3<br/><b>Height</b>: 2.7<br/><b>Additional Info</b>: BRAND NEW<br/><b>Item Location</b>: Broadwell<br/><b>Front Page</b>: <a href=\"http://www.bidfta.com\" target=\"_blank\">Click here to go back to Fast Track Auction Home Page</a> <br/><b>Twitter</b>: <a href=\"https://twitter.com/home?status=Check%20out%20this%20great%20deal%20I%20found%20on%20%23FastTrackIt%20%40BidFTA%20http%3A//bid.bidfta.com/cgi-bin/mnlist.cgi?/TN071843\">Twitter</a><br/><b>Facebook</b>: <a href=\"https://www.facebook.com/sharer/sharer.php?u=http%3A//bid.bidfta.com/cgi-bin/mnlist.cgi?/TN071843\">Facebook</a><br/><b>Pinterest</b>: <a href=\"https://pinterest.com/pin/create/button/?url=&amp;media=http%3A//bidfta.biz//TN071843t.jpg&amp;description=Check%20out%20this%20sweet%20deal%20I%20found%20on%20%23FastTrackIt%20%40BidFTA\">Pinterest</a><br/><b>Watchlist</b>: <a href=\"http://beta.watch-fta.com:8080/Watchlist/#/Add?name=TN071843\" target=\"_blank\"><img alt=\"Add to Watchlist\" src=\"http://d2c3kiufvhjdfg.cloudfront.net/Pics/wlbutton.png\"/></a><br/></td>\n",
       " <td align=\"right\"><a href=\"/cgi-bin/mnhistory.cgi?broadwellv108/TN071843\">6</a></td>\n",
       " <td align=\"right\">198198</td>\n",
       " <td align=\"right\">7.69</td>\n",
       " <td align=\"right\"> </td>\n",
       " <td align=\"center\" colspan=\"2\">ended</td></tr>,\n",
       " <tr bgcolor=\"#eeeeee\" class=\"DataRow\" id=\"TN071844\" valign=\"top\"><td><a href=\"/cgi-bin/mnlist.cgi?broadwellv108/TN071844\">TN071844</a></td>\n",
       " <td align=\"center\"><a href=\"/cgi-bin/mnlist.cgi?broadwellv108/TN071844\"><img alt=\"TN071844t.jpg\" border=\"0\" src=\"http://d2c3kiufvhjdfg.cloudfront.net/Pics/TN071844t.jpg\"/></a></td><td><b>Item Brand</b>: MILKBONE<br/><b>Item Desc</b>: MILK-BONE SOFT FILET MINGON DOG TREATS, 5.6 OZ<br/><b>Model</b>: 900110<br/><b>Load #</b>: 22680<br/><b>Lotter</b>: Mindy<br/><b>Depth</b>: 10<br/><b>Height</b>: 1.8<br/><b>Additional Info</b>: BRAND NEW<br/><b>Item Location</b>: Broadwell<br/><b>Front Page</b>: <a href=\"http://www.bidfta.com\" target=\"_blank\">Click here to go back to Fast Track Auction Home Page</a> <br/><b>Twitter</b>: <a href=\"https://twitter.com/home?status=Check%20out%20this%20great%20deal%20I%20found%20on%20%23FastTrackIt%20%40BidFTA%20http%3A//bid.bidfta.com/cgi-bin/mnlist.cgi?/TN071844\">Twitter</a><br/><b>Facebook</b>: <a href=\"https://www.facebook.com/sharer/sharer.php?u=http%3A//bid.bidfta.com/cgi-bin/mnlist.cgi?/TN071844\">Facebook</a><br/><b>Pinterest</b>: <a href=\"https://pinterest.com/pin/create/button/?url=&amp;media=http%3A//bidfta.biz//TN071844t.jpg&amp;description=Check%20out%20this%20sweet%20deal%20I%20found%20on%20%23FastTrackIt%20%40BidFTA\">Pinterest</a><br/><b>Watchlist</b>: <a href=\"http://beta.watch-fta.com:8080/Watchlist/#/Add?name=TN071844\" target=\"_blank\"><img alt=\"Add to Watchlist\" src=\"http://d2c3kiufvhjdfg.cloudfront.net/Pics/wlbutton.png\"/></a><br/></td>\n",
       " <td align=\"right\"><a href=\"/cgi-bin/mnhistory.cgi?broadwellv108/TN071844\">5</a></td>\n",
       " <td align=\"right\">60903</td>\n",
       " <td align=\"right\">2.20</td>\n",
       " <td align=\"right\"> </td>\n",
       " <td align=\"center\" colspan=\"2\">ended</td></tr>,\n",
       " <tr class=\"DataRow\" id=\"TN071845\" valign=\"top\"><td><a href=\"/cgi-bin/mnlist.cgi?broadwellv108/TN071845\">TN071845</a></td>\n",
       " <td align=\"center\"><a href=\"/cgi-bin/mnlist.cgi?broadwellv108/TN071845\"><img alt=\"TN071845t.jpg\" border=\"0\" src=\"http://d2c3kiufvhjdfg.cloudfront.net/Pics/TN071845t.jpg\"/></a></td><td><b>Item Desc</b>: EARL OF ORANGE ORGANIC BLACK TEA <br/><b>MSRP</b>: 0<br/><b>Load #</b>: 21732<br/><b>Lotter</b>: Mindy<br/><b>Depth</b>: ERROR<br/><b>Height</b>: ERROR<br/><b>Additional Info</b>: BRAND NEW<br/><b>Item Location</b>: Broadwell<br/><b>Front Page</b>: <a href=\"http://www.bidfta.com\" target=\"_blank\">Click here to go back to Fast Track Auction Home Page</a> <br/><b>Twitter</b>: <a href=\"https://twitter.com/home?status=Check%20out%20this%20great%20deal%20I%20found%20on%20%23FastTrackIt%20%40BidFTA%20http%3A//bid.bidfta.com/cgi-bin/mnlist.cgi?/TN071845\">Twitter</a><br/><b>Facebook</b>: <a href=\"https://www.facebook.com/sharer/sharer.php?u=http%3A//bid.bidfta.com/cgi-bin/mnlist.cgi?/TN071845\">Facebook</a><br/><b>Pinterest</b>: <a href=\"https://pinterest.com/pin/create/button/?url=&amp;media=http%3A//bidfta.biz//TN071845t.jpg&amp;description=Check%20out%20this%20sweet%20deal%20I%20found%20on%20%23FastTrackIt%20%40BidFTA\">Pinterest</a><br/><b>Watchlist</b>: <a href=\"http://beta.watch-fta.com:8080/Watchlist/#/Add?name=TN071845\" target=\"_blank\"><img alt=\"Add to Watchlist\" src=\"http://d2c3kiufvhjdfg.cloudfront.net/Pics/wlbutton.png\"/></a><br/></td>\n",
       " <td align=\"right\"><a href=\"/cgi-bin/mnhistory.cgi?broadwellv108/TN071845\">1</a></td>\n",
       " <td align=\"right\">99886</td>\n",
       " <td align=\"right\">0.01</td>\n",
       " <td align=\"right\"> </td>\n",
       " <td align=\"center\" colspan=\"2\">ended</td></tr>,\n",
       " <tr bgcolor=\"#eeeeee\" class=\"DataRow\" id=\"TN071846\" valign=\"top\"><td><a href=\"/cgi-bin/mnlist.cgi?broadwellv108/TN071846\">TN071846</a></td>\n",
       " <td align=\"center\"><a href=\"/cgi-bin/mnlist.cgi?broadwellv108/TN071846\"><img alt=\"TN071846t.jpg\" border=\"0\" src=\"http://d2c3kiufvhjdfg.cloudfront.net/Pics/TN071846t.jpg\"/></a></td><td><b>Item Brand</b>: FILA<br/><b>Item Desc</b>: FILA FRAGRANCE BODY SPRAY FOR MEN, 8.4 OUNCE, MIST<br/><b>MSRP</b>: 16.96<br/><b>Load #</b>: 12160<br/><b>Lotter</b>: Mindy<br/><b>Additional Info</b>: BRAND NEW<br/><b>Item Location</b>: Broadwell<br/><b>Front Page</b>: <a href=\"http://www.bidfta.com\" target=\"_blank\">Click here to go back to Fast Track Auction Home Page</a> <br/><b>Twitter</b>: <a href=\"https://twitter.com/home?status=Check%20out%20this%20great%20deal%20I%20found%20on%20%23FastTrackIt%20%40BidFTA%20http%3A//bid.bidfta.com/cgi-bin/mnlist.cgi?/TN071846\">Twitter</a><br/><b>Facebook</b>: <a href=\"https://www.facebook.com/sharer/sharer.php?u=http%3A//bid.bidfta.com/cgi-bin/mnlist.cgi?/TN071846\">Facebook</a><br/><b>Pinterest</b>: <a href=\"https://pinterest.com/pin/create/button/?url=&amp;media=http%3A//bidfta.biz//TN071846t.jpg&amp;description=Check%20out%20this%20sweet%20deal%20I%20found%20on%20%23FastTrackIt%20%40BidFTA\">Pinterest</a><br/><b>Watchlist</b>: <a href=\"http://beta.watch-fta.com:8080/Watchlist/#/Add?name=TN071846\" target=\"_blank\"><img alt=\"Add to Watchlist\" src=\"http://d2c3kiufvhjdfg.cloudfront.net/Pics/wlbutton.png\"/></a><br/></td>\n",
       " <td align=\"right\"><a href=\"/cgi-bin/mnhistory.cgi?broadwellv108/TN071846\">5</a></td>\n",
       " <td align=\"right\">222199</td>\n",
       " <td align=\"right\">1.80</td>\n",
       " <td align=\"right\"> </td>\n",
       " <td align=\"center\" colspan=\"2\">ended</td></tr>,\n",
       " <tr class=\"DataRow\" id=\"TN071847\" valign=\"top\"><td><a href=\"/cgi-bin/mnlist.cgi?broadwellv108/TN071847\">TN071847</a></td>\n",
       " <td align=\"center\"><a href=\"/cgi-bin/mnlist.cgi?broadwellv108/TN071847\"><img alt=\"TN071847t.jpg\" border=\"0\" src=\"http://d2c3kiufvhjdfg.cloudfront.net/Pics/TN071847t.jpg\"/></a></td><td><b>Item Brand</b>: MAD INK FASHIONS<br/><b>Item Desc</b>: ENGINEER, PROBLEM, SOLUTION, SARCASM - FUNNY ENGINEER MUG - WHITE 11 OZ. COFFEE MUG - GREAT NOVELTY GIFT FOR ENGINEER, MOM, DAD, CO-WORKER, BOSS, FRIENDS AND TEACHERS BY MAD INK FASHIONS<br/><b>Load #</b>: 21732<br/><b>Lotter</b>: Mindy<br/><b>Additional Info</b>: BRAND NEW<br/><b>Item Location</b>: Broadwell<br/><b>Front Page</b>: <a href=\"http://www.bidfta.com\" target=\"_blank\">Click here to go back to Fast Track Auction Home Page</a> <br/><b>Twitter</b>: <a href=\"https://twitter.com/home?status=Check%20out%20this%20great%20deal%20I%20found%20on%20%23FastTrackIt%20%40BidFTA%20http%3A//bid.bidfta.com/cgi-bin/mnlist.cgi?/TN071847\">Twitter</a><br/><b>Facebook</b>: <a href=\"https://www.facebook.com/sharer/sharer.php?u=http%3A//bid.bidfta.com/cgi-bin/mnlist.cgi?/TN071847\">Facebook</a><br/><b>Pinterest</b>: <a href=\"https://pinterest.com/pin/create/button/?url=&amp;media=http%3A//bidfta.biz//TN071847t.jpg&amp;description=Check%20out%20this%20sweet%20deal%20I%20found%20on%20%23FastTrackIt%20%40BidFTA\">Pinterest</a><br/><b>Watchlist</b>: <a href=\"http://beta.watch-fta.com:8080/Watchlist/#/Add?name=TN071847\" target=\"_blank\"><img alt=\"Add to Watchlist\" src=\"http://d2c3kiufvhjdfg.cloudfront.net/Pics/wlbutton.png\"/></a><br/></td>\n",
       " <td align=\"right\"><a href=\"/cgi-bin/mnhistory.cgi?broadwellv108/TN071847\">3</a></td>\n",
       " <td align=\"right\">248296</td>\n",
       " <td align=\"right\">0.33</td>\n",
       " <td align=\"right\"> </td>\n",
       " <td align=\"center\" colspan=\"2\">ended</td></tr>,\n",
       " <tr bgcolor=\"#eeeeee\" class=\"DataRow\" id=\"TN071848\" valign=\"top\"><td><a href=\"/cgi-bin/mnlist.cgi?broadwellv108/TN071848\">TN071848</a></td>\n",
       " <td align=\"center\"><a href=\"/cgi-bin/mnlist.cgi?broadwellv108/TN071848\"><img alt=\"TN071848t.jpg\" border=\"0\" src=\"http://d2c3kiufvhjdfg.cloudfront.net/Pics/TN071848t.jpg\"/></a></td><td><b>Item Brand</b>: LAYS<br/><b>Item Desc</b>: LAYS, CLASSIC POTATO CHIPS, 1.5 OZ. (64 COUNT)<br/><b>MSRP</b>: 260<br/><b>Load #</b>: 22680<br/><b>Lotter</b>: Mindy<br/><b>Additional Info</b>: BRAND NEW<br/><b>Item Location</b>: Broadwell<br/><b>Front Page</b>: <a href=\"http://www.bidfta.com\" target=\"_blank\">Click here to go back to Fast Track Auction Home Page</a> <br/><b>Twitter</b>: <a href=\"https://twitter.com/home?status=Check%20out%20this%20great%20deal%20I%20found%20on%20%23FastTrackIt%20%40BidFTA%20http%3A//bid.bidfta.com/cgi-bin/mnlist.cgi?/TN071848\">Twitter</a><br/><b>Facebook</b>: <a href=\"https://www.facebook.com/sharer/sharer.php?u=http%3A//bid.bidfta.com/cgi-bin/mnlist.cgi?/TN071848\">Facebook</a><br/><b>Pinterest</b>: <a href=\"https://pinterest.com/pin/create/button/?url=&amp;media=http%3A//bidfta.biz//TN071848t.jpg&amp;description=Check%20out%20this%20sweet%20deal%20I%20found%20on%20%23FastTrackIt%20%40BidFTA\">Pinterest</a><br/><b>Watchlist</b>: <a href=\"http://beta.watch-fta.com:8080/Watchlist/#/Add?name=TN071848\" target=\"_blank\"><img alt=\"Add to Watchlist\" src=\"http://d2c3kiufvhjdfg.cloudfront.net/Pics/wlbutton.png\"/></a><br/></td>\n",
       " <td align=\"right\"><a href=\"/cgi-bin/mnhistory.cgi?broadwellv108/TN071848\">8</a></td>\n",
       " <td align=\"right\">253968</td>\n",
       " <td align=\"right\">21.43</td>\n",
       " <td align=\"right\"> </td>\n",
       " <td align=\"center\" colspan=\"2\">ended</td></tr>,\n",
       " <tr class=\"DataRow\" id=\"TN071849\" valign=\"top\"><td><a href=\"/cgi-bin/mnlist.cgi?broadwellv108/TN071849\">TN071849</a></td>\n",
       " <td align=\"center\"><a href=\"/cgi-bin/mnlist.cgi?broadwellv108/TN071849\"><img alt=\"TN071849t.jpg\" border=\"0\" src=\"http://d2c3kiufvhjdfg.cloudfront.net/Pics/TN071849t.jpg\"/></a></td><td><b>Item Brand</b>: SUNBEAM <br/><b>Item Desc</b>: SUNBEAM  5-PIECE BAKEWARE SET INCLUDES (1) 6 CUP MUFFIN PAN (1) COOKIE SHEET 13X10 (1) ROUND PIE PAN 9IN (1) ROUND CAKE PAN 9 IN (1) SQUARE CAKE PAN 9X9 (2) RECTANGULAR LOAF CAKE PAN 8.25X4 IN<br/><b>MSRP</b>: 29.99<br/><b>Load #</b>: 12541<br/><b>Lotter</b>: Mindy<br/><b>Depth</b>: 14.76<br/><b>Height</b>: 5.3<br/><b>Additional Info</b>: BRAND NEW<br/><b>Item Location</b>: Broadwell<br/><b>Front Page</b>: <a href=\"http://www.bidfta.com\" target=\"_blank\">Click here to go back to Fast Track Auction Home Page</a> <br/><b>Twitter</b>: <a href=\"https://twitter.com/home?status=Check%20out%20this%20great%20deal%20I%20found%20on%20%23FastTrackIt%20%40BidFTA%20http%3A//bid.bidfta.com/cgi-bin/mnlist.cgi?/TN071849\">Twitter</a><br/><b>Facebook</b>: <a href=\"https://www.facebook.com/sharer/sharer.php?u=http%3A//bid.bidfta.com/cgi-bin/mnlist.cgi?/TN071849\">Facebook</a><br/><b>Pinterest</b>: <a href=\"https://pinterest.com/pin/create/button/?url=&amp;media=http%3A//bidfta.biz//TN071849t.jpg&amp;description=Check%20out%20this%20sweet%20deal%20I%20found%20on%20%23FastTrackIt%20%40BidFTA\">Pinterest</a><br/><b>Watchlist</b>: <a href=\"http://beta.watch-fta.com:8080/Watchlist/#/Add?name=TN071849\" target=\"_blank\"><img alt=\"Add to Watchlist\" src=\"http://d2c3kiufvhjdfg.cloudfront.net/Pics/wlbutton.png\"/></a><br/></td>\n",
       " <td align=\"right\"><a href=\"/cgi-bin/mnhistory.cgi?broadwellv108/TN071849\">10</a></td>\n",
       " <td align=\"right\">217757</td>\n",
       " <td align=\"right\">2.70\n",
       " <br/>x 5 = 13.50</td>\n",
       " <td align=\"right\"> </td>\n",
       " <td align=\"center\" colspan=\"2\">ended</td></tr>,\n",
       " <tr bgcolor=\"#eeeeee\" class=\"DataRow\" id=\"TN071850\" valign=\"top\"><td><a href=\"/cgi-bin/mnlist.cgi?broadwellv108/TN071850\">TN071850</a></td>\n",
       " <td align=\"center\"><a href=\"/cgi-bin/mnlist.cgi?broadwellv108/TN071850\"><img alt=\"TN071850t.jpg\" border=\"0\" src=\"http://d2c3kiufvhjdfg.cloudfront.net/Pics/TN071850t.jpg\"/></a></td><td><b>Item Brand</b>: BRAUN<br/><b>Item Desc</b>: BRAUN SERIES 3 REPLACEMENT HEAD 32S<br/><b>MSRP</b>: 25.24<br/><b>Model</b>: 32S<br/><b>Load #</b>: 16178<br/><b>Lotter</b>: Mindy<br/><b>Width</b>: 4<br/><b>Depth</b>: 0.98<br/><b>Height</b>: 4.37<br/><b>Weight</b>: 0.22<br/><b>Additional Info</b>: BRAND NEW<br/><b>Item Location</b>: Broadwell<br/><b>Front Page</b>: <a href=\"http://www.bidfta.com\" target=\"_blank\">Click here to go back to Fast Track Auction Home Page</a> <br/><b>Twitter</b>: <a href=\"https://twitter.com/home?status=Check%20out%20this%20great%20deal%20I%20found%20on%20%23FastTrackIt%20%40BidFTA%20http%3A//bid.bidfta.com/cgi-bin/mnlist.cgi?/TN071850\">Twitter</a><br/><b>Facebook</b>: <a href=\"https://www.facebook.com/sharer/sharer.php?u=http%3A//bid.bidfta.com/cgi-bin/mnlist.cgi?/TN071850\">Facebook</a><br/><b>Pinterest</b>: <a href=\"https://pinterest.com/pin/create/button/?url=&amp;media=http%3A//bidfta.biz//TN071850t.jpg&amp;description=Check%20out%20this%20sweet%20deal%20I%20found%20on%20%23FastTrackIt%20%40BidFTA\">Pinterest</a><br/><b>Watchlist</b>: <a href=\"http://beta.watch-fta.com:8080/Watchlist/#/Add?name=TN071850\" target=\"_blank\"><img alt=\"Add to Watchlist\" src=\"http://d2c3kiufvhjdfg.cloudfront.net/Pics/wlbutton.png\"/></a><br/></td>\n",
       " <td align=\"right\"> </td>\n",
       " <td align=\"right\"></td>\n",
       " <td align=\"right\"> </td>\n",
       " <td align=\"right\"> </td>\n",
       " <td align=\"center\" colspan=\"2\">ended</td></tr>,\n",
       " <tr class=\"DataRow\" id=\"TN071851\" valign=\"top\"><td><a href=\"/cgi-bin/mnlist.cgi?broadwellv108/TN071851\">TN071851</a></td>\n",
       " <td align=\"center\"><a href=\"/cgi-bin/mnlist.cgi?broadwellv108/TN071851\"><img alt=\"TN071851t.jpg\" border=\"0\" src=\"http://d2c3kiufvhjdfg.cloudfront.net/Pics/TN071851t.jpg\"/></a></td><td><b>Item Desc</b>: BULK SUPPLEMENTS WHEY PROTEIN ISOLATE 17.64OZ<br/><b>Load #</b>: 16178<br/><b>Lotter</b>: Mindy<br/><b>Additional Info</b>: BRAND NEW<br/><b>Item Location</b>: Broadwell<br/><b>Front Page</b>: <a href=\"http://www.bidfta.com\" target=\"_blank\">Click here to go back to Fast Track Auction Home Page</a> <br/><b>Twitter</b>: <a href=\"https://twitter.com/home?status=Check%20out%20this%20great%20deal%20I%20found%20on%20%23FastTrackIt%20%40BidFTA%20http%3A//bid.bidfta.com/cgi-bin/mnlist.cgi?/TN071851\">Twitter</a><br/><b>Facebook</b>: <a href=\"https://www.facebook.com/sharer/sharer.php?u=http%3A//bid.bidfta.com/cgi-bin/mnlist.cgi?/TN071851\">Facebook</a><br/><b>Pinterest</b>: <a href=\"https://pinterest.com/pin/create/button/?url=&amp;media=http%3A//bidfta.biz//TN071851t.jpg&amp;description=Check%20out%20this%20sweet%20deal%20I%20found%20on%20%23FastTrackIt%20%40BidFTA\">Pinterest</a><br/><b>Watchlist</b>: <a href=\"http://beta.watch-fta.com:8080/Watchlist/#/Add?name=TN071851\" target=\"_blank\"><img alt=\"Add to Watchlist\" src=\"http://d2c3kiufvhjdfg.cloudfront.net/Pics/wlbutton.png\"/></a><br/></td>\n",
       " <td align=\"right\"><a href=\"/cgi-bin/mnhistory.cgi?broadwellv108/TN071851\">5</a></td>\n",
       " <td align=\"right\">217757</td>\n",
       " <td align=\"right\">3.70</td>\n",
       " <td align=\"right\"> </td>\n",
       " <td align=\"center\" colspan=\"2\">ended</td></tr>]"
      ]
     },
     "execution_count": 56,
     "metadata": {},
     "output_type": "execute_result"
    }
   ],
   "source": [
    "soup.select('table table tr')[3:-3]"
   ]
  },
  {
   "cell_type": "code",
   "execution_count": 57,
   "metadata": {
    "collapsed": true
   },
   "outputs": [
    {
     "name": "stderr",
     "output_type": "stream",
     "text": [
      "C:\\Users\\212474523\\AppData\\Local\\Continuum\\Anaconda3\\lib\\site-packages\\bs4\\__init__.py:181: UserWarning: No parser was explicitly specified, so I'm using the best available HTML parser for this system (\"lxml\"). This usually isn't a problem, but if you run this code on another system, or in a different virtual environment, it may use a different parser and behave differently.\n",
      "\n",
      "The code that caused this warning is on line 184 of the file C:\\Users\\212474523\\AppData\\Local\\Continuum\\Anaconda3\\lib\\runpy.py. To get rid of this warning, change code that looks like this:\n",
      "\n",
      " BeautifulSoup([your markup])\n",
      "\n",
      "to this:\n",
      "\n",
      " BeautifulSoup([your markup], \"lxml\")\n",
      "\n",
      "  markup_type=markup_type))\n"
     ]
    },
    {
     "ename": "OperationalError",
     "evalue": "table items has 4 columns but 3 values were supplied",
     "output_type": "error",
     "traceback": [
      "\u001b[0;31m---------------------------------------------------------------------------\u001b[0m",
      "\u001b[0;31mOperationalError\u001b[0m                          Traceback (most recent call last)",
      "\u001b[0;32m<ipython-input-57-d06562ba342a>\u001b[0m in \u001b[0;36m<module>\u001b[0;34m()\u001b[0m\n\u001b[1;32m     14\u001b[0m         \u001b[1;32melif\u001b[0m \u001b[0msplit_item_data\u001b[0m\u001b[1;33m[\u001b[0m\u001b[0mi\u001b[0m\u001b[1;33m-\u001b[0m\u001b[1;36m1\u001b[0m\u001b[1;33m]\u001b[0m \u001b[1;33m==\u001b[0m \u001b[1;34m'Additional Info'\u001b[0m\u001b[1;33m:\u001b[0m\u001b[1;33m\u001b[0m\u001b[0m\n\u001b[1;32m     15\u001b[0m             \u001b[0maddtl\u001b[0m \u001b[1;33m=\u001b[0m \u001b[0msplit_item_data\u001b[0m\u001b[1;33m[\u001b[0m\u001b[0mi\u001b[0m\u001b[1;33m]\u001b[0m\u001b[1;33m[\u001b[0m\u001b[1;36m2\u001b[0m\u001b[1;33m:\u001b[0m\u001b[1;33m]\u001b[0m\u001b[1;33m\u001b[0m\u001b[0m\n\u001b[0;32m---> 16\u001b[0;31m     \u001b[0mc\u001b[0m\u001b[1;33m.\u001b[0m\u001b[0mexecute\u001b[0m\u001b[1;33m(\u001b[0m\u001b[1;34m'INSERT INTO items VALUES (?, ?, ?)'\u001b[0m\u001b[1;33m,\u001b[0m\u001b[1;33m(\u001b[0m\u001b[0mitem_desc\u001b[0m\u001b[1;33m,\u001b[0m \u001b[0maddtl\u001b[0m\u001b[1;33m,\u001b[0m \u001b[0muri\u001b[0m\u001b[1;33m)\u001b[0m\u001b[1;33m)\u001b[0m\u001b[1;33m\u001b[0m\u001b[0m\n\u001b[0m",
      "\u001b[0;31mOperationalError\u001b[0m: table items has 4 columns but 3 values were supplied"
     ]
    }
   ],
   "source": [
    "item_list = soup.select('table table tr')[3:-3]\n",
    "item_desc_list = []\n",
    "\n",
    "soup.select('table table tr')[-4].getText().split(': ')\n",
    "split_item_data = re.split('<b>|</b>|<br/>',str(soup.select('table table tr')[-4]))\n",
    "\n",
    "for item in soup.select('table table tr')[3:-3]:\n",
    "    uri, item_desc, addtl = [None]*3\n",
    "    split_item_data = re.split('<b>|</b>|<br/>',str(item))\n",
    "    uri = 'http://bid.bidfta.com' + bs4.BeautifulSoup(split_item_data[0]).select('a')[0].get('href') \n",
    "    for i in range(1,len(split_item_data)):\n",
    "        if split_item_data[i-1] == 'Item Desc':\n",
    "            item_desc = split_item_data[i][2:]\n",
    "        elif split_item_data[i-1] == 'Additional Info':\n",
    "            addtl = split_item_data[i][2:]\n",
    "    c.execute('INSERT INTO items VALUES (?, ?, ?)',(item_desc, addtl, uri))"
   ]
  }
 ],
 "metadata": {
  "anaconda-cloud": {},
  "kernelspec": {
   "display_name": "Python 3",
   "language": "python",
   "name": "python3"
  },
  "language_info": {
   "codemirror_mode": {
    "name": "ipython",
    "version": 3
   },
   "file_extension": ".py",
   "mimetype": "text/x-python",
   "name": "python",
   "nbconvert_exporter": "python",
   "pygments_lexer": "ipython3",
   "version": "3.6.0"
  }
 },
 "nbformat": 4,
 "nbformat_minor": 1
}
