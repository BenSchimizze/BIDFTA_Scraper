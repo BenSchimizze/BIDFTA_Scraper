{
 "cells": [
  {
   "cell_type": "code",
   "execution_count": 1,
   "metadata": {
    "collapsed": false
   },
   "outputs": [],
   "source": [
    "import requests, bs4\n",
    "import os\n",
    "import re\n",
    "from datetime import datetime\n",
    "import sqlite3\n",
    "os.environ['http_proxy'] = \"http://PITC-Zscaler-Americas-Cincinnati3PR.proxy.corporate.ge.com:80\" \n",
    "os.environ['HTTP_PROXY'] = \"http://PITC-Zscaler-Americas-Cincinnati3PR.proxy.corporate.ge.com:80\"\n",
    "os.environ['https_proxy'] = \"http://PITC-Zscaler-Americas-Cincinnati3PR.proxy.corporate.ge.com:80\"\n",
    "os.environ['HTTPS_PROXY'] = \"http://PITC-Zscaler-Americas-Cincinnati3PR.proxy.corporate.ge.com:80\""
   ]
  },
  {
   "cell_type": "code",
   "execution_count": 2,
   "metadata": {
    "collapsed": false
   },
   "outputs": [],
   "source": [
    "res = requests.get('https://bid.bidfta.com/cgi-bin/mndetails.cgi?broadwellv371')"
   ]
  },
  {
   "cell_type": "code",
   "execution_count": 3,
   "metadata": {
    "collapsed": false
   },
   "outputs": [
    {
     "data": {
      "text/plain": [
       "datetime.datetime(2018, 4, 2, 10, 0)"
      ]
     },
     "execution_count": 3,
     "metadata": {},
     "output_type": "execute_result"
    }
   ],
   "source": [
    "soup = bs4.BeautifulSoup(res.text, 'html.parser')\n",
    "date_string = soup.select('table tr td table tr td')[2].getText()\n",
    "date_list = re.split(\"[ ,]+\", date_string)\n",
    "item_date = datetime.strptime(\" \".join(date_list[:5]),\"%B %d %Y %I:%M %p\")\n",
    "item_date"
   ]
  },
  {
   "cell_type": "code",
   "execution_count": 4,
   "metadata": {
    "collapsed": false
   },
   "outputs": [
    {
     "data": {
      "text/plain": [
       "datetime.datetime(2018, 4, 2, 10, 0)"
      ]
     },
     "execution_count": 4,
     "metadata": {},
     "output_type": "execute_result"
    }
   ],
   "source": [
    "datetime.strptime(\" \".join(date_list[:5]),\"%B %d %Y %I:%M %p\")"
   ]
  },
  {
   "cell_type": "code",
   "execution_count": 5,
   "metadata": {
    "collapsed": false
   },
   "outputs": [
    {
     "data": {
      "text/plain": [
       "'https://bid.bidfta.com/cgi-bin/mnlist.cgi?broadwellv371/category/ALL'"
      ]
     },
     "execution_count": 5,
     "metadata": {},
     "output_type": "execute_result"
    }
   ],
   "source": [
    "item_details_link = r'https://bid.bidfta.com' + soup.select('a')[-3].get('href')\n",
    "item_details_link"
   ]
  },
  {
   "cell_type": "code",
   "execution_count": 6,
   "metadata": {
    "collapsed": true
   },
   "outputs": [],
   "source": [
    "res = requests.get(item_details_link)\n",
    "soup = bs4.BeautifulSoup(res.text, 'html.parser')"
   ]
  },
  {
   "cell_type": "code",
   "execution_count": 9,
   "metadata": {
    "collapsed": false
   },
   "outputs": [
    {
     "data": {
      "text/plain": [
       "<sqlite3.Cursor at 0x65ff490>"
      ]
     },
     "execution_count": 9,
     "metadata": {},
     "output_type": "execute_result"
    }
   ],
   "source": [
    "conn = sqlite3.connect('bidfta.db')\n",
    "c = conn.cursor()\n",
    "c.execute('DROP TABLE items')\n",
    "c.execute('''CREATE TABLE items\n",
    "             (description text, additional text, uri text, current_price real)''')"
   ]
  },
  {
   "cell_type": "code",
   "execution_count": 10,
   "metadata": {
    "collapsed": false
   },
   "outputs": [],
   "source": [
    "items = soup.findAll('table')[2].findAll('table')[2].select('tr')[1:]\n",
    "#print(items[0].select('td')[2])\n",
    "for item in items:\n",
    "    #print(item)\n",
    "    price = item.select('td')[-3].getText()\n",
    "    split_item_data = re.split('<b>|</b>|<br/>',str(item.select('td')[2]))\n",
    "    uri = 'http://bid.bidfta.com' + item.find('a').get('href')\n",
    "    for i in range(1,len(split_item_data)):\n",
    "        if split_item_data[i-1] == 'Item Desc':\n",
    "            item_desc = split_item_data[i][2:]\n",
    "        elif split_item_data[i-1] == 'Additional Info':\n",
    "            addtl = split_item_data[i][2:]\n",
    "    c.execute('INSERT INTO items VALUES (?, ?, ?, ?)',(item_desc, addtl, uri, price))"
   ]
  },
  {
   "cell_type": "code",
   "execution_count": 12,
   "metadata": {
    "collapsed": false
   },
   "outputs": [
    {
     "data": {
      "text/plain": [
       "[('APPEARS NEW',),\n",
       " ('OPEN BOX',),\n",
       " ('APPEARS NEW.',),\n",
       " ('APPEARS NEW-TIP BROKEN ',),\n",
       " ('DAMAGED - ',),\n",
       " ('APPEARS NEW-CASE CRACKED ',),\n",
       " ('APPEARS NEW-SMALL CUT',),\n",
       " ('APPEARS NEW-NO LEGS ',)]"
      ]
     },
     "execution_count": 12,
     "metadata": {},
     "output_type": "execute_result"
    }
   ],
   "source": [
    "c.execute('select distinct additional from items')\n",
    "c.fetchall()"
   ]
  },
  {
   "cell_type": "code",
   "execution_count": null,
   "metadata": {
    "collapsed": true
   },
   "outputs": [],
   "source": []
  },
  {
   "cell_type": "code",
   "execution_count": null,
   "metadata": {
    "collapsed": false
   },
   "outputs": [],
   "source": [
    "conn.close()"
   ]
  },
  {
   "cell_type": "code",
   "execution_count": null,
   "metadata": {
    "collapsed": false
   },
   "outputs": [],
   "source": [
    "item_list = soup.select('table table tr')[3:-3]\n",
    "item_desc_list = []\n",
    "\n",
    "soup.select('table table tr')[-4].getText().split(': ')\n",
    "split_item_data = re.split('<b>|</b>|<br/>',str(soup.select('table table tr')[-4]))\n",
    "\n",
    "for item in soup.select('table table tr')[3:-3]:\n",
    "    uri, item_desc, addtl = [None]*3\n",
    "    split_item_data = re.split('<b>|</b>|<br/>',str(item))\n",
    "    uri = 'http://bid.bidfta.com' + bs4.BeautifulSoup(split_item_data[0]).select('a')[0].get('href') \n",
    "    for i in range(1,len(split_item_data)):\n",
    "        if split_item_data[i-1] == 'Item Desc':\n",
    "            item_desc = split_item_data[i][2:]\n",
    "        elif split_item_data[i-1] == 'Additional Info':\n",
    "            addtl = split_item_data[i][2:]\n",
    "    c.execute('INSERT INTO items VALUES (?, ?, ?)',(item_desc, addtl, uri))"
   ]
  },
  {
   "cell_type": "code",
   "execution_count": null,
   "metadata": {
    "collapsed": false
   },
   "outputs": [],
   "source": [
    "c.execute('select * from items')\n",
    "c.fetchall()\n",
    "#c.close()"
   ]
  },
  {
   "cell_type": "code",
   "execution_count": null,
   "metadata": {
    "collapsed": false
   },
   "outputs": [],
   "source": [
    "'http://bid.bidfta.com' + bs4.BeautifulSoup(re.split('<b>|</b>|<br/>',str(soup.select('table table tr')[-4]))[0]).select('a')[0].get('href')"
   ]
  },
  {
   "cell_type": "code",
   "execution_count": null,
   "metadata": {
    "collapsed": true
   },
   "outputs": [],
   "source": []
  }
 ],
 "metadata": {
  "anaconda-cloud": {},
  "kernelspec": {
   "display_name": "Python [default]",
   "language": "python",
   "name": "python3"
  },
  "language_info": {
   "codemirror_mode": {
    "name": "ipython",
    "version": 3
   },
   "file_extension": ".py",
   "mimetype": "text/x-python",
   "name": "python",
   "nbconvert_exporter": "python",
   "pygments_lexer": "ipython3",
   "version": "3.5.2"
  }
 },
 "nbformat": 4,
 "nbformat_minor": 1
}
