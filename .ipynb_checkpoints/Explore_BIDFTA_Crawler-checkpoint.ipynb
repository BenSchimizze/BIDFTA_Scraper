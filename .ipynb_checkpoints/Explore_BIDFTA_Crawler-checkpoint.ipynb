{
 "cells": [
  {
   "cell_type": "markdown",
   "metadata": {},
   "source": [
    "# Processing steps\n",
    "1. Crawl bidfta\n",
    "2. Parse individual auction pages\n",
    "    1. Load all items onto one page (done)\n",
    "    2. For each item\n",
    "        1. Grab description, price, uri, msrp, auction location, addt'l info, end datetime\n",
    "        2. Insert into row for SQLite"
   ]
  },
  {
   "cell_type": "code",
   "execution_count": 1,
   "metadata": {
    "collapsed": false
   },
   "outputs": [
    {
     "data": {
      "text/plain": [
       "'os.environ[\\'http_proxy\\'] = \"http://PITC-Zscaler-Americas-Cincinnati3PR.proxy.corporate.ge.com:80\" \\nos.environ[\\'HTTP_PROXY\\'] = \"http://PITC-Zscaler-Americas-Cincinnati3PR.proxy.corporate.ge.com:80\"\\nos.environ[\\'https_proxy\\'] = \"http://PITC-Zscaler-Americas-Cincinnati3PR.proxy.corporate.ge.com:80\"\\nos.environ[\\'HTTPS_PROXY\\'] = \"http://PITC-Zscaler-Americas-Cincinnati3PR.proxy.corporate.ge.com:80'"
      ]
     },
     "execution_count": 1,
     "metadata": {},
     "output_type": "execute_result"
    }
   ],
   "source": [
    "import requests, bs4\n",
    "import os\n",
    "import re\n",
    "from datetime import datetime\n",
    "import sqlite3\n",
    "import selenium\n",
    "\"\"\"os.environ['http_proxy'] = \"http://PITC-Zscaler-Americas-Cincinnati3PR.proxy.corporate.ge.com:80\" \n",
    "os.environ['HTTP_PROXY'] = \"http://PITC-Zscaler-Americas-Cincinnati3PR.proxy.corporate.ge.com:80\"\n",
    "os.environ['https_proxy'] = \"http://PITC-Zscaler-Americas-Cincinnati3PR.proxy.corporate.ge.com:80\"\n",
    "os.environ['HTTPS_PROXY'] = \"http://PITC-Zscaler-Americas-Cincinnati3PR.proxy.corporate.ge.com:80\"\"\""
   ]
  },
  {
   "cell_type": "code",
   "execution_count": 2,
   "metadata": {
    "collapsed": false
   },
   "outputs": [
    {
     "name": "stdout",
     "output_type": "stream",
     "text": [
      "Here is some important text you want to retrieve!\n",
      "A button to click!\n"
     ]
    }
   ],
   "source": [
    "from selenium import webdriver\n",
    "import time\n",
    "\n",
    "driver = webdriver.Chrome()\n",
    "driver.get('http://pythonscraping.com/pages/javascript/ajaxDemo.html')\n",
    "time.sleep(3)\n",
    "print(driver.find_element_by_id('content').text)\n",
    "driver.close()"
   ]
  },
  {
   "cell_type": "code",
   "execution_count": 3,
   "metadata": {
    "collapsed": false
   },
   "outputs": [],
   "source": [
    "from selenium import webdriver\n",
    "import time\n",
    "\n",
    "driver = webdriver.Chrome()\n",
    "driver.get('https://bid.bidfta.com/cgi-bin/mnlist.cgi?schooliv972/category/ALL')\n",
    "time.sleep(3)\n",
    "#driver.close()"
   ]
  },
  {
   "cell_type": "code",
   "execution_count": 6,
   "metadata": {
    "collapsed": false
   },
   "outputs": [],
   "source": [
    "#Build string of elements\n",
    "def build_element_string(driver):\n",
    "    build_flag = True\n",
    "    start_p = 'p1'\n",
    "    item_str = \"\"\n",
    "    while build_flag:\n",
    "        try:\n",
    "            item_str += driver.find_element_by_name(start_p).get_attribute(\"value\")\n",
    "            start_p = start_p[0] + str(int(start_p[1])+1)\n",
    "        except:\n",
    "            build_flag = False\n",
    "    return item_str\n",
    "\n",
    "item_str = build_element_string(driver)\n",
    "#item_str\n",
    "#driver.find_element_by_xpath(\"//table[@id='SelectPage']\").find_element_by_name(\"p2\").get_attribute('value')"
   ]
  },
  {
   "cell_type": "code",
   "execution_count": 7,
   "metadata": {
    "collapsed": false
   },
   "outputs": [],
   "source": [
    "elem = driver.find_elements_by_name(\"p2\")[2]\n",
    "driver.execute_script(\"arguments[0].setAttribute('value','\" + item_str + \"')\", elem)"
   ]
  },
  {
   "cell_type": "code",
   "execution_count": 8,
   "metadata": {
    "collapsed": false
   },
   "outputs": [],
   "source": [
    "driver.find_element_by_xpath(\"//input[@value='p2'][@name='page']\").click()"
   ]
  },
  {
   "cell_type": "code",
   "execution_count": 68,
   "metadata": {
    "collapsed": false
   },
   "outputs": [],
   "source": [
    "driver.close()"
   ]
  },
  {
   "cell_type": "code",
   "execution_count": 46,
   "metadata": {
    "collapsed": true
   },
   "outputs": [
    {
     "ename": "ValueError",
     "evalue": "time data 'Bidding extended on Open items' does not match format '%B %d %Y %I:%M %p'",
     "output_type": "error",
     "traceback": [
      "\u001b[0;31m---------------------------------------------------------------------------\u001b[0m",
      "\u001b[0;31mValueError\u001b[0m                                Traceback (most recent call last)",
      "\u001b[0;32m<ipython-input-46-e6642d14a5fe>\u001b[0m in \u001b[0;36m<module>\u001b[0;34m()\u001b[0m\n\u001b[1;32m      2\u001b[0m \u001b[0mdate_string\u001b[0m \u001b[1;33m=\u001b[0m \u001b[0msoup\u001b[0m\u001b[1;33m.\u001b[0m\u001b[0mselect\u001b[0m\u001b[1;33m(\u001b[0m\u001b[1;34m'table tr td table tr td'\u001b[0m\u001b[1;33m)\u001b[0m\u001b[1;33m[\u001b[0m\u001b[1;36m2\u001b[0m\u001b[1;33m]\u001b[0m\u001b[1;33m.\u001b[0m\u001b[0mgetText\u001b[0m\u001b[1;33m(\u001b[0m\u001b[1;33m)\u001b[0m\u001b[1;33m\u001b[0m\u001b[0m\n\u001b[1;32m      3\u001b[0m \u001b[0mdate_list\u001b[0m \u001b[1;33m=\u001b[0m \u001b[0mre\u001b[0m\u001b[1;33m.\u001b[0m\u001b[0msplit\u001b[0m\u001b[1;33m(\u001b[0m\u001b[1;34m\"[ ,]+\"\u001b[0m\u001b[1;33m,\u001b[0m \u001b[0mdate_string\u001b[0m\u001b[1;33m)\u001b[0m\u001b[1;33m\u001b[0m\u001b[0m\n\u001b[0;32m----> 4\u001b[0;31m \u001b[0mitem_date\u001b[0m \u001b[1;33m=\u001b[0m \u001b[0mdatetime\u001b[0m\u001b[1;33m.\u001b[0m\u001b[0mstrptime\u001b[0m\u001b[1;33m(\u001b[0m\u001b[1;34m\" \"\u001b[0m\u001b[1;33m.\u001b[0m\u001b[0mjoin\u001b[0m\u001b[1;33m(\u001b[0m\u001b[0mdate_list\u001b[0m\u001b[1;33m[\u001b[0m\u001b[1;33m:\u001b[0m\u001b[1;36m5\u001b[0m\u001b[1;33m]\u001b[0m\u001b[1;33m)\u001b[0m\u001b[1;33m,\u001b[0m\u001b[1;34m\"%B %d %Y %I:%M %p\"\u001b[0m\u001b[1;33m)\u001b[0m\u001b[1;33m\u001b[0m\u001b[0m\n\u001b[0m\u001b[1;32m      5\u001b[0m \u001b[0mitem_date\u001b[0m\u001b[1;33m\u001b[0m\u001b[0m\n",
      "\u001b[0;32mC:\\Users\\212474523\\AppData\\Local\\Continuum\\Anaconda3\\lib\\_strptime.py\u001b[0m in \u001b[0;36m_strptime_datetime\u001b[0;34m(cls, data_string, format)\u001b[0m\n\u001b[1;32m    508\u001b[0m     \"\"\"Return a class cls instance based on the input string and the\n\u001b[1;32m    509\u001b[0m     format string.\"\"\"\n\u001b[0;32m--> 510\u001b[0;31m     \u001b[0mtt\u001b[0m\u001b[1;33m,\u001b[0m \u001b[0mfraction\u001b[0m \u001b[1;33m=\u001b[0m \u001b[0m_strptime\u001b[0m\u001b[1;33m(\u001b[0m\u001b[0mdata_string\u001b[0m\u001b[1;33m,\u001b[0m \u001b[0mformat\u001b[0m\u001b[1;33m)\u001b[0m\u001b[1;33m\u001b[0m\u001b[0m\n\u001b[0m\u001b[1;32m    511\u001b[0m     \u001b[0mtzname\u001b[0m\u001b[1;33m,\u001b[0m \u001b[0mgmtoff\u001b[0m \u001b[1;33m=\u001b[0m \u001b[0mtt\u001b[0m\u001b[1;33m[\u001b[0m\u001b[1;33m-\u001b[0m\u001b[1;36m2\u001b[0m\u001b[1;33m:\u001b[0m\u001b[1;33m]\u001b[0m\u001b[1;33m\u001b[0m\u001b[0m\n\u001b[1;32m    512\u001b[0m     \u001b[0margs\u001b[0m \u001b[1;33m=\u001b[0m \u001b[0mtt\u001b[0m\u001b[1;33m[\u001b[0m\u001b[1;33m:\u001b[0m\u001b[1;36m6\u001b[0m\u001b[1;33m]\u001b[0m \u001b[1;33m+\u001b[0m \u001b[1;33m(\u001b[0m\u001b[0mfraction\u001b[0m\u001b[1;33m,\u001b[0m\u001b[1;33m)\u001b[0m\u001b[1;33m\u001b[0m\u001b[0m\n",
      "\u001b[0;32mC:\\Users\\212474523\\AppData\\Local\\Continuum\\Anaconda3\\lib\\_strptime.py\u001b[0m in \u001b[0;36m_strptime\u001b[0;34m(data_string, format)\u001b[0m\n\u001b[1;32m    341\u001b[0m     \u001b[1;32mif\u001b[0m \u001b[1;32mnot\u001b[0m \u001b[0mfound\u001b[0m\u001b[1;33m:\u001b[0m\u001b[1;33m\u001b[0m\u001b[0m\n\u001b[1;32m    342\u001b[0m         raise ValueError(\"time data %r does not match format %r\" %\n\u001b[0;32m--> 343\u001b[0;31m                          (data_string, format))\n\u001b[0m\u001b[1;32m    344\u001b[0m     \u001b[1;32mif\u001b[0m \u001b[0mlen\u001b[0m\u001b[1;33m(\u001b[0m\u001b[0mdata_string\u001b[0m\u001b[1;33m)\u001b[0m \u001b[1;33m!=\u001b[0m \u001b[0mfound\u001b[0m\u001b[1;33m.\u001b[0m\u001b[0mend\u001b[0m\u001b[1;33m(\u001b[0m\u001b[1;33m)\u001b[0m\u001b[1;33m:\u001b[0m\u001b[1;33m\u001b[0m\u001b[0m\n\u001b[1;32m    345\u001b[0m         raise ValueError(\"unconverted data remains: %s\" %\n",
      "\u001b[0;31mValueError\u001b[0m: time data 'Bidding extended on Open items' does not match format '%B %d %Y %I:%M %p'"
     ]
    }
   ],
   "source": [
    "soup = bs4.BeautifulSoup(driver.page_source, 'html.parser')\n",
    "date_string = soup.select('table tr td table tr td')[2].getText()\n",
    "date_list = re.split(\"[ ,]+\", date_string)\n",
    "item_date = datetime.strptime(\" \".join(date_list[:5]),\"%B %d %Y %I:%M %p\")\n",
    "item_date"
   ]
  },
  {
   "cell_type": "code",
   "execution_count": 8,
   "metadata": {
    "collapsed": false
   },
   "outputs": [
    {
     "data": {
      "text/plain": [
       "datetime.datetime(2018, 4, 2, 10, 0)"
      ]
     },
     "execution_count": 8,
     "metadata": {},
     "output_type": "execute_result"
    }
   ],
   "source": [
    "datetime.strptime(\" \".join(date_list[:5]),\"%B %d %Y %I:%M %p\")"
   ]
  },
  {
   "cell_type": "code",
   "execution_count": 9,
   "metadata": {
    "collapsed": false
   },
   "outputs": [
    {
     "data": {
      "text/plain": [
       "'https://bid.bidfta.com/cgi-bin/mnlist.cgi?broadwellv371/category/ALL'"
      ]
     },
     "execution_count": 9,
     "metadata": {},
     "output_type": "execute_result"
    }
   ],
   "source": [
    "item_details_link = r'https://bid.bidfta.com' + soup.select('a')[-3].get('href')\n",
    "item_details_link"
   ]
  },
  {
   "cell_type": "code",
   "execution_count": 9,
   "metadata": {
    "collapsed": true
   },
   "outputs": [],
   "source": [
    "#res = requests.get(item_details_link)\n",
    "soup = bs4.BeautifulSoup(driver.page_source, 'html.parser')"
   ]
  },
  {
   "cell_type": "code",
   "execution_count": 75,
   "metadata": {
    "collapsed": false
   },
   "outputs": [
    {
     "data": {
      "text/plain": [
       "<sqlite3.Cursor at 0x7402030>"
      ]
     },
     "execution_count": 75,
     "metadata": {},
     "output_type": "execute_result"
    }
   ],
   "source": [
    "conn = sqlite3.connect('bidfta.db')\n",
    "c = conn.cursor()\n",
    "c.execute('DROP TABLE items')\n",
    "c.execute('''CREATE TABLE items\n",
    "             (brand text,\n",
    "             model text,\n",
    "             description text,\n",
    "             additional text,\n",
    "             msrp real,\n",
    "             price real,\n",
    "             uri text)''')"
   ]
  },
  {
   "cell_type": "code",
   "execution_count": 60,
   "metadata": {
    "collapsed": false
   },
   "outputs": [
    {
     "data": {
      "text/plain": [
       "<tr class=\"DataRow\" id=\"HQ882423\" valign=\"top\"><td><a href=\"/cgi-bin/mnlist.cgi?schooliv972/HQ882423\">HQ882423</a></td>\n",
       "<td align=\"center\"><a href=\"/cgi-bin/mnlist.cgi?schooliv972/HQ882423\"><img alt=\"HQ882423t.jpg\" border=\"0\" src=\"http://d2c3kiufvhjdfg.cloudfront.net/Pics/HQ882423t.jpg\"/></a></td><td><b>Item Brand</b>: YAKIMA<br/><b>Item Desc</b>: YAKIMA PRODUCTS WINDSHIELD , 34\"<br/><b>MSRP</b>: 109<br/><b>Model</b>: 8005016<br/><b>Load #</b>: 22825<br/><b>Lotter</b>: 92<br/><b>Width</b>: 5.5<br/><b>Depth</b>: 41.25<br/><b>Height</b>: 2.25<br/><b>Weight</b>: 2.25<br/><b>Additional Info</b>: OPEN BOX<br/><b>Item Location</b>: Amazon <br/><b>Front Page</b>: <a href=\"http://www.bidfta.com\" target=\"_blank\">Click here to go back to Fast Track Auction Home Page</a> <br/><b>Twitter</b>: <a href=\"https://twitter.com/home?status=Check%20out%20this%20great%20deal%20I%20found%20on%20%23FastTrackIt%20%40BidFTA%20http%3A//bid.bidfta.com/cgi-bin/mnlist.cgi?school972/HQ882423\">Twitter</a><br/><b>Facebook</b>: <a href=\"https://www.facebook.com/sharer/sharer.php?u=http%3A//bid.bidfta.com/cgi-bin/mnlist.cgi?school972/HQ882423\">Facebook</a><br/><b>Pinterest</b>: <a href=\"https://pinterest.com/pin/create/button/?url=&amp;media=http%3A//bidfta.biz//HQ882423t.jpg&amp;description=Check%20out%20this%20sweet%20deal%20I%20found%20on%20%23FastTrackIt%20%40BidFTA\">Pinterest</a><br/><b>Watchlist</b>: <a href=\"http://beta.watch-fta.com:8080/Watchlist/#/Add?name=HQ882423\" target=\"_blank\"><img alt=\"Add to Watchlist\" src=\"http://d2c3kiufvhjdfg.cloudfront.net/Pics/wlbutton.png\"/></a><br/></td>\n",
       "<td align=\"right\"><a href=\"/cgi-bin/mnhistory.cgi?schooliv972/HQ882423\">3</a></td>\n",
       "<td align=\"right\">190478</td>\n",
       "<td align=\"right\">4.20</td>\n",
       "<td align=\"right\"><a href=\"javascript:subfillform('HQ882423','4.40')\">4.40</a></td>\n",
       "<td align=\"center\"><input name=\"HQ882423\" size=\"6\" type=\"text\"/></td>\n",
       "<td align=\"center\"><input name=\"mHQ882423\" size=\"6\" type=\"text\"/>\n",
       "<br/><i><a href=\"javascript:subbnpw()\">submit bid</a></i><i>\n",
       "<br/>1 hr.\n",
       "<br/>8 min.<br/>remaining\n",
       "<br/><a href=\"javascript:subform('HQ882423')\">refresh</a></i></td></tr>"
      ]
     },
     "execution_count": 60,
     "metadata": {},
     "output_type": "execute_result"
    }
   ],
   "source": [
    "item_list = (soup.find('table',id='DataTable')\n",
    "     .findAll('tr', class_='DataRow')\n",
    "    )\n",
    "item_list[0]\n",
    "#https://bid.bidfta.com/cgi-bin/mnlist.cgi?schooliv972/HQ882423"
   ]
  },
  {
   "cell_type": "code",
   "execution_count": 69,
   "metadata": {
    "collapsed": true
   },
   "outputs": [
    {
     "data": {
      "text/plain": [
       "{'Additional Info': 'APPEARS NEW',\n",
       " 'Depth': '36',\n",
       " 'Facebook': '<a href=\"https://www.facebook.com/sharer/sharer.php?u=http%3A//bid.bidfta.com/cgi-bin/mnlist.cgi?school972/HQ882420\">Facebook</a>',\n",
       " 'Front Page': '<a href=\"http://www.bidfta.com\" target=\"_blank\">Click here to go back to Fast Track Auction Home Page</a> ',\n",
       " 'Height': '2',\n",
       " 'Item Brand': 'TOTES',\n",
       " 'Item Desc': 'TOTES CLEAR BUBBLE UMBRELLA',\n",
       " 'Item Location': 'Amazon ',\n",
       " 'Load #': '22825',\n",
       " 'Lotter': '92',\n",
       " 'MSRP': '21.95',\n",
       " 'Model': '818',\n",
       " 'Pinterest': '<a href=\"https://pinterest.com/pin/create/button/?url=&amp;media=http%3A//bidfta.biz//HQ882420t.jpg&amp;description=Check%20out%20this%20sweet%20deal%20I%20found%20on%20%23FastTrackIt%20%40BidFTA\">Pinterest</a>',\n",
       " 'Twitter': '<a href=\"https://twitter.com/home?status=Check%20out%20this%20great%20deal%20I%20found%20on%20%23FastTrackIt%20%40BidFTA%20http%3A//bid.bidfta.com/cgi-bin/mnlist.cgi?school972/HQ882420\">Twitter</a>',\n",
       " 'Watchlist': '<a href=\"http://beta.watch-fta.com:8080/Watchlist/#/Add?name=HQ882420\" target=\"_blank\"><img alt=\"Add to Watchlist\" src=\"http://d2c3kiufvhjdfg.cloudfront.net/Pics/wlbutton.png\"/></a>',\n",
       " 'Weight': '2.2',\n",
       " 'Width': '2',\n",
       " 'price': '3.00',\n",
       " 'uri': 'https://bid.bidfta.com/cgi-bin/mnlist.cgi?schooliv972/HQ882420'}"
      ]
     },
     "execution_count": 69,
     "metadata": {},
     "output_type": "execute_result"
    }
   ],
   "source": [
    "def create_dict_one_item(item):\n",
    "    item_dict = {}\n",
    "    item_dict['uri'] = \"https://bid.bidfta.com\" + item.find('a').get('href')\n",
    "    item_dict['price'] = item.findAll('td')[5].getText()\n",
    "    text = str(item.findAll('td')[2])\n",
    "    re_breaks = re.compile(\"<br/>\")\n",
    "    re_bolds = re.compile(\"<b>(.*?)</b>\")\n",
    "    re_eol = re.compile(\": (.*)$\")\n",
    "    txt = mat.split(text)\n",
    "    for row in txt:\n",
    "        try:\n",
    "            label = mat2.search(row).groups()[0]\n",
    "            val = mat3.search(row).groups()[0]\n",
    "            item_dict[label] = val\n",
    "        except:\n",
    "            pass\n",
    "    return item_dict\n",
    "\n",
    "create_dict_one_item(item_list[3])"
   ]
  },
  {
   "cell_type": "code",
   "execution_count": 77,
   "metadata": {
    "collapsed": false
   },
   "outputs": [],
   "source": [
    "item_list = (soup.find('table',id='DataTable')\n",
    "                 .findAll('tr', class_='DataRow')\n",
    "            )\n",
    "\n",
    "for item in item_list:\n",
    "    item_dict = create_dict_one_item(item)\n",
    "    pull_list = [\"Item Brand\",\"Model\",\"Item Desc\",\"Additional Info\",\"MSRP\",\"price\",\"uri\"]\n",
    "    output_tuple = tuple(item_dict.get(key) for key in pull_list)\n",
    "    c.execute('INSERT INTO items VALUES (?, ?, ?, ?, ?, ?, ?)',output_tuple)"
   ]
  },
  {
   "cell_type": "code",
   "execution_count": 80,
   "metadata": {
    "collapsed": false
   },
   "outputs": [
    {
     "data": {
      "text/plain": [
       "[('SNAPEZO',\n",
       "  'SNAP-27-40-S-30MM',\n",
       "  'MOVIE POSTER FRAME 27X40 INCHES, SILVER SNAPEZO 1.2\" ALUMINUM PROFILE, FRONT-LOADING SNAP FRAME, WALL MOUNTING, PREMIUM SERIES FOR ONE SHEET MOVIE POSTERS',\n",
       "  'OPEN BOX',\n",
       "  129.99,\n",
       "  4.08,\n",
       "  'https://bid.bidfta.com/cgi-bin/mnlist.cgi?schooliv972/HQ882515')]"
      ]
     },
     "execution_count": 80,
     "metadata": {},
     "output_type": "execute_result"
    }
   ],
   "source": [
    "c.execute(\"select * from items where description like '%poster%'\")\n",
    "c.fetchall()"
   ]
  }
 ],
 "metadata": {
  "anaconda-cloud": {},
  "kernelspec": {
   "display_name": "Python [default]",
   "language": "python",
   "name": "python3"
  },
  "language_info": {
   "codemirror_mode": {
    "name": "ipython",
    "version": 3
   },
   "file_extension": ".py",
   "mimetype": "text/x-python",
   "name": "python",
   "nbconvert_exporter": "python",
   "pygments_lexer": "ipython3",
   "version": "3.5.2"
  }
 },
 "nbformat": 4,
 "nbformat_minor": 1
}
